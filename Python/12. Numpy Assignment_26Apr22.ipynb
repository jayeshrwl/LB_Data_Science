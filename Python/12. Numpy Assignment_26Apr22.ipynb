{
 "cells": [
  {
   "cell_type": "code",
   "execution_count": 1,
   "id": "cb731b4f",
   "metadata": {},
   "outputs": [],
   "source": [
    "#Python NumPy (Array, Random, Math)"
   ]
  },
  {
   "cell_type": "code",
   "execution_count": 2,
   "id": "ab1f6683",
   "metadata": {},
   "outputs": [],
   "source": [
    "# Write a Python program to print the NumPy version in your system."
   ]
  },
  {
   "cell_type": "code",
   "execution_count": 3,
   "id": "f39e4ca5",
   "metadata": {},
   "outputs": [],
   "source": [
    "# Write a Python program to reverse an array (first element becomes last)."
   ]
  },
  {
   "cell_type": "code",
   "execution_count": 4,
   "id": "df38c3c5",
   "metadata": {},
   "outputs": [],
   "source": [
    "# Write a Python program to convert a list and tuple into arrays."
   ]
  },
  {
   "cell_type": "code",
   "execution_count": 5,
   "id": "c38e0b46",
   "metadata": {},
   "outputs": [],
   "source": [
    "# Write a Python program to find common values between two arrays."
   ]
  },
  {
   "cell_type": "code",
   "execution_count": 6,
   "id": "91c6eea9",
   "metadata": {},
   "outputs": [],
   "source": [
    "# Write a Python program compare two arrays using numpy."
   ]
  },
  {
   "cell_type": "code",
   "execution_count": 7,
   "id": "0626d12c",
   "metadata": {},
   "outputs": [],
   "source": [
    "# Write a Python program to change the dimension of an array."
   ]
  },
  {
   "cell_type": "code",
   "execution_count": 8,
   "id": "7ba0d9b2",
   "metadata": {},
   "outputs": [],
   "source": [
    "# Write a Python program (using numpy) to sum of all the multiples of 3 or 5 below 100."
   ]
  },
  {
   "cell_type": "code",
   "execution_count": 9,
   "id": "4374ca60",
   "metadata": {},
   "outputs": [],
   "source": [
    "# Write a Python program to convert a NumPy array into Python list structure. "
   ]
  },
  {
   "cell_type": "code",
   "execution_count": 10,
   "id": "e75c3bdf",
   "metadata": {},
   "outputs": [],
   "source": [
    "# Write a Python program to how to add an extra column to a numpy array."
   ]
  },
  {
   "cell_type": "code",
   "execution_count": 11,
   "id": "49a4d735",
   "metadata": {},
   "outputs": [],
   "source": [
    "# Write a Python program to check whether the numpy array is empty or not."
   ]
  },
  {
   "cell_type": "code",
   "execution_count": 14,
   "id": "8cbc709b",
   "metadata": {},
   "outputs": [],
   "source": [
    "# Write a Python program to normalize a 3x3 random matrix."
   ]
  },
  {
   "cell_type": "code",
   "execution_count": 15,
   "id": "bd156caa",
   "metadata": {},
   "outputs": [],
   "source": [
    "# How to ignore all numpy warnings (not recommended)?"
   ]
  },
  {
   "cell_type": "code",
   "execution_count": null,
   "id": "02e14352",
   "metadata": {},
   "outputs": [],
   "source": []
  }
 ],
 "metadata": {
  "kernelspec": {
   "display_name": "Python 3 (ipykernel)",
   "language": "python",
   "name": "python3"
  },
  "language_info": {
   "codemirror_mode": {
    "name": "ipython",
    "version": 3
   },
   "file_extension": ".py",
   "mimetype": "text/x-python",
   "name": "python",
   "nbconvert_exporter": "python",
   "pygments_lexer": "ipython3",
   "version": "3.9.7"
  }
 },
 "nbformat": 4,
 "nbformat_minor": 5
}
