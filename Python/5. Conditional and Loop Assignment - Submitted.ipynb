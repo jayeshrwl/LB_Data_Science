{
 "cells": [
  {
   "cell_type": "code",
   "execution_count": 1,
   "metadata": {},
   "outputs": [],
   "source": [
    "# Q1. W. A P. which takes one number from 0 to 9 from the user and prints\n",
    "# it in the word. And if the word is not from 0 to 9 then\n",
    "# it should print that number is outside of the range and program should\n",
    "# exit.\n",
    "# For exapmple:-\n",
    "# input = 1\n",
    "# output = one"
   ]
  },
  {
   "cell_type": "code",
   "execution_count": 3,
   "metadata": {},
   "outputs": [
    {
     "name": "stdout",
     "output_type": "stream",
     "text": [
      "Please enter a value between 0 to 9: 2\n",
      "You have entered \"Two\"\n",
      "Please enter a value between 0 to 9: 10\n",
      "Number is outside of the range\n"
     ]
    }
   ],
   "source": [
    "dict = {0: 'Zero', 1:'One', 2:'Two', 3:'Three', 4:'Four', 5:'five', 6:'Six', 7:'Seven', 8:'Eight', 9:'Nine'}\n",
    "num = 0\n",
    "while 0<=num <= 9 :\n",
    "    num = int(input('Please enter a value between 0 to 9: '))\n",
    "    if 0<= num <= 9:\n",
    "        print(f'You have entered \"{dict[num]}\"') \n",
    "    else :\n",
    "        print ('Number is outside of the range')\n",
    "    "
   ]
  },
  {
   "cell_type": "code",
   "execution_count": null,
   "metadata": {},
   "outputs": [],
   "source": [
    "# Q2. W. A P. to implement calculator but the operation to be done and two\n",
    "# numbers will be taken as input from user:-\n",
    "# Operation console should show below:-\n",
    "#  Please select any one operation from below:-\n",
    "#  * To add enter 1\n",
    "#  * to subtract enter 2\n",
    "#  * To multiply enter 3\n",
    "#  * To divide enter 4\n",
    "#  * To divide and find quotient enter 5\n",
    "#  * To divide and find remainder enter 6\n",
    "#  * To divide and find num1 to the power of num2 enter 7\n",
    "#  * To Come out of the program enter 8"
   ]
  },
  {
   "cell_type": "code",
   "execution_count": 27,
   "metadata": {},
   "outputs": [
    {
     "name": "stdout",
     "output_type": "stream",
     "text": [
      "Enter Input Value 1: 20\n",
      "Enter Input Value 2: 10\n",
      "Please select any one operation from below:-\n",
      "  * To add enter 1\n",
      "  * to subtract enter 2\n",
      "  * To multiply enter 3\n",
      "  * To divide enter 4\n",
      "  * To divide and find quotient enter 5\n",
      "  * To divide and find remainder enter 6\n",
      "  * To find num1 to the power of num2 enter 7\n",
      "  * To Come out of the program enter 8\n",
      "Please select the operation : 1\n",
      " Selected to Add value 1: \"20.0\" and value 2: \"10.0\" and answer is \"30.0\"\n",
      "Please select the operation : 2\n",
      " Selected to Subtract value 1: \"20.0\" by value 2: \"10.0\" and answer is \"10.0\"\n",
      "Please select the operation : 3\n",
      " Selected to Multiply value 1: \"20.0\" by value 2: \"10.0\" and answer is \"200.0\"\n",
      "Please select the operation : 4\n",
      " Selected to Divide value 1: \"20.0\" by value 2: \"10.0\" and answer is \"2.0\"\n",
      "Please select the operation : 5\n",
      " Selected to Divide value 1: \"20.0\" by value 2: \"10.0\" and the Quotient value is \"2.0\"\n",
      "Please select the operation : 6\n",
      " Selected to Divide value 1: \"20.0\" by value 2: \"10.0\" and the Remainder value is \"0.0\"\n",
      "Please select the operation : 7\n",
      " Selected to value 1: \"20.0\" to the power of value 2: \"10.0\" and answer is \"10240000000000.0\"\n",
      "Please select the operation : 8\n",
      "You have exited the program!!!\n"
     ]
    }
   ],
   "source": [
    "a = float(input ('Enter Input Value 1: '))\n",
    "b = float(input ('Enter Input Value 2: '))\n",
    "print('''Please select any one operation from below:-\n",
    "  * To add enter 1\n",
    "  * to subtract enter 2\n",
    "  * To multiply enter 3\n",
    "  * To divide enter 4\n",
    "  * To divide and find quotient enter 5\n",
    "  * To divide and find remainder enter 6\n",
    "  * To find num1 to the power of num2 enter 7\n",
    "  * To Come out of the program enter 8''')\n",
    "act = 1\n",
    "while 1<=act <= 7 :\n",
    "    act = int(input('Please select the operation : '))\n",
    "    if act == 1:\n",
    "        print(f' Selected to Add value 1: \"{a}\" and value 2: \"{b}\" and answer is \"{a+b}\"')\n",
    "    elif act ==2:\n",
    "        print(f' Selected to Subtract value 1: \"{a}\" by value 2: \"{b}\" and answer is \"{a-b}\"')\n",
    "    elif act ==3:\n",
    "        print(f' Selected to Multiply value 1: \"{a}\" by value 2: \"{b}\" and answer is \"{a*b}\"')\n",
    "    elif act ==4:\n",
    "        print(f' Selected to Divide value 1: \"{a}\" by value 2: \"{b}\" and answer is \"{a/b}\"')\n",
    "    elif act ==5:\n",
    "        print(f' Selected to Divide value 1: \"{a}\" by value 2: \"{b}\" and the Quotient value is \"{a//b}\"')\n",
    "    elif act ==6:\n",
    "        print(f' Selected to Divide value 1: \"{a}\" by value 2: \"{b}\" and the Remainder value is \"{a%b}\"')\n",
    "    elif act ==7:\n",
    "        print(f' Selected to value 1: \"{a}\" to the power of value 2: \"{b}\" and answer is \"{a**b}\"')\n",
    "    elif act > 8 or act < 0:\n",
    "        print ('''You have entered incorrect command, \n",
    "Program Terminated!!!''')        \n",
    "    elif act == 8:\n",
    "        print ('You have exited the program!!!')"
   ]
  },
  {
   "cell_type": "code",
   "execution_count": 28,
   "metadata": {},
   "outputs": [],
   "source": [
    "# Q3. W A P to check whether a year entered by user is an leap year or not?\n",
    "# Check with below input:-\n",
    "#  leap year:- 2012, 1968, 2004, 1200, 1600,2400\n",
    "#  Non-lear year:- 1971, 2006, 1700,1800,1900"
   ]
  },
  {
   "cell_type": "code",
   "execution_count": 77,
   "metadata": {},
   "outputs": [
    {
     "name": "stdout",
     "output_type": "stream",
     "text": [
      "Please enter the year in \"YYYY\" format: 1800\n",
      "1800 is Non-Leap year\n"
     ]
    }
   ],
   "source": [
    "# In the Gregorian calendar currently in use worldwide (except perhaps the Russian and Iranian calendars), \n",
    "# there is a leap year every year divisible by four except for years which are both divisible by 100 and not \n",
    "# divisible by 400. \n",
    "y = int(input('Please enter the year in \"YYYY\" format: '))\n",
    "if y%4 == 0:\n",
    "    if y%100 == 0 and y%400 != 0:\n",
    "        print(f'{y} is Non-Leap year')\n",
    "    else:\n",
    "        print(f'{y} is a leap year')\n",
    "else:\n",
    "    print(f'{y} is Non-Leap year')"
   ]
  },
  {
   "cell_type": "code",
   "execution_count": 78,
   "metadata": {},
   "outputs": [],
   "source": [
    "# Q4. W A P which takes one number from the user and checks whether it is\n",
    "# an even or odd number?, If it even then prints number is\n",
    "# even number else prints that number is odd number."
   ]
  },
  {
   "cell_type": "code",
   "execution_count": 81,
   "metadata": {},
   "outputs": [
    {
     "name": "stdout",
     "output_type": "stream",
     "text": [
      "Check if Number is Odd or Even - Please Enter the number: 15\n",
      "15 is a odd number\n"
     ]
    }
   ],
   "source": [
    "a = int(input ('Check if Number is Odd or Even - Please Enter the number: '))\n",
    "if a%2 == 0:\n",
    "    print(f'{a} is a even number')\n",
    "else:\n",
    "    print(f'{a} is a odd number')\n",
    "          "
   ]
  },
  {
   "cell_type": "code",
   "execution_count": 83,
   "metadata": {},
   "outputs": [],
   "source": [
    "# Q5. W A P which takes two numbers from the user and prints below output:-\n",
    "#  1. num1 is greater than num2 if num1 is greater than num2\n",
    "#  2. num1 is smaller than num2 if num1 is smaller than num2\n",
    "#  3. num1 is equal to num2 if num1 and num2 are equal\n",
    "# Note:- 1. Do this problem using if - else\n",
    "#  2. Do this using ternary operator"
   ]
  },
  {
   "cell_type": "code",
   "execution_count": 89,
   "metadata": {},
   "outputs": [
    {
     "name": "stdout",
     "output_type": "stream",
     "text": [
      "Enter Input Num1: 10.25\n",
      "Enter Input Num2: 10.25\n",
      "num1: \"10.25\" is equal to num2: \"10.25\"\n"
     ]
    }
   ],
   "source": [
    "num1 = float(input ('Enter Input Num1: '))\n",
    "num2 = float(input ('Enter Input Num2: '))\n",
    "\n",
    "if num1 > num2 :\n",
    "    print (f'num1: \"{num1}\" is greater than num2: \"{num2}\"')\n",
    "elif num1 < num2 :\n",
    "    print (f'num1: \"{num1}\" is smaller than num2: \"{num2}\"')\n",
    "else :\n",
    "    print (f'num1: \"{num1}\" is equal to num2: \"{num2}\"')\n",
    "           "
   ]
  },
  {
   "cell_type": "code",
   "execution_count": 90,
   "metadata": {},
   "outputs": [],
   "source": [
    "# Q6. W A P which takes three numbers from the user and prints below\n",
    "# output:-\n",
    "#  1. num1 is greater than num2 and num3 if num1 is greater than num2\n",
    "# and num3\n",
    "#  2. num2 is greater than num1 and num3 if num2 is greater than num1\n",
    "# and num3\n",
    "#  3. num3 is greater than num1 and num2 if num3 is greater than num1\n",
    "# and num2\n",
    "# Note:- 1. Do this problem using if - elif - else\n",
    "#  2. Do this using ternary operator\n",
    "# a = a if a>b else b"
   ]
  },
  {
   "cell_type": "code",
   "execution_count": 95,
   "metadata": {},
   "outputs": [
    {
     "name": "stdout",
     "output_type": "stream",
     "text": [
      "Enter Input Num1: 10\n",
      "Enter Input Num2: 30\n",
      "Enter Input Num3: 20\n",
      "num2: \"30.0\" is greater than num1: \"10.0\" and num3: \"20.0\"\n"
     ]
    }
   ],
   "source": [
    "num1 = float(input ('Enter Input Num1: '))\n",
    "num2 = float(input ('Enter Input Num2: '))\n",
    "num3 = float(input ('Enter Input Num3: '))\n",
    "\n",
    "if (num1 > num2) & (num1 > num3) :\n",
    "    print (f'num1: \"{num1}\" is greater than num2: \"{num2}\" and num3: \"{num3}\"')\n",
    "elif (num2 > num1) & (num2 > num3) :\n",
    "    print (f'num2: \"{num2}\" is greater than num1: \"{num1}\" and num3: \"{num3}\"')\n",
    "else :\n",
    "    print (f'num3: \"{num3}\" is greater than num1: \"{num1}\" and num2: \"{num2}\"')"
   ]
  },
  {
   "cell_type": "code",
   "execution_count": 106,
   "metadata": {},
   "outputs": [
    {
     "name": "stdout",
     "output_type": "stream",
     "text": [
      "Enter Input Num1: 10\n",
      "Enter Input Num2: 20\n",
      "Enter Input Num3: 30\n",
      "num3: \"30.0\" is greater than num1: \"10.0\" and num2: \"20.0\"\n"
     ]
    }
   ],
   "source": [
    "num1 = float(input ('Enter Input Num1: '))\n",
    "num2 = float(input ('Enter Input Num2: '))\n",
    "num3 = float(input ('Enter Input Num3: '))\n",
    "\n",
    "print (f'num1: \"{num1}\" is greater than num2: \"{num2}\" and num3: \"{num3}\"') \\\n",
    "if (num1 > num2) & (num1 > num3) \\\n",
    "else print (f'num2: \"{num2}\" is greater than num1: \"{num1}\" and num3: \"{num3}\"') \\\n",
    "if (num2 > num1) & (num2 > num3) \\\n",
    "else print(f'num3: \"{num3}\" is greater than num1: \"{num1}\" and num2: \"{num2}\"')"
   ]
  },
  {
   "cell_type": "markdown",
   "metadata": {},
   "source": [
    "# Loops - for loop, while loop"
   ]
  },
  {
   "cell_type": "code",
   "execution_count": 108,
   "metadata": {},
   "outputs": [],
   "source": [
    "# Q7. Write a Python program to find the length of the my_str using loop:-\n",
    "# Input:- 'Write a Python program to find the length of the my_str'\n",
    "# Output:- 55"
   ]
  },
  {
   "cell_type": "code",
   "execution_count": 109,
   "metadata": {},
   "outputs": [
    {
     "name": "stdout",
     "output_type": "stream",
     "text": [
      "Write a Python program to find the length of the my_str\n"
     ]
    },
    {
     "data": {
      "text/plain": [
       "55"
      ]
     },
     "execution_count": 109,
     "metadata": {},
     "output_type": "execute_result"
    }
   ],
   "source": [
    "a = input()\n",
    "len(a)"
   ]
  },
  {
   "cell_type": "code",
   "execution_count": 110,
   "metadata": {},
   "outputs": [],
   "source": [
    "# Q8. Write a Python program to find the total number of times letter 'p'\n",
    "# is appeared in the below string using loop:-\n",
    "# Input:- 'peter piper picked a peck of pickled peppers.\\n'\n",
    "# Output:- 9"
   ]
  },
  {
   "cell_type": "code",
   "execution_count": 151,
   "metadata": {},
   "outputs": [
    {
     "name": "stdout",
     "output_type": "stream",
     "text": [
      "peter piper picked a peck of pickled peppers.\\n\n",
      "9 = the Count of \"p\" in the given string\n"
     ]
    }
   ],
   "source": [
    "a = input()\n",
    "print(f'''{a.count('p')} = the Count of \"p\" in the given string''')"
   ]
  },
  {
   "cell_type": "code",
   "execution_count": 143,
   "metadata": {},
   "outputs": [],
   "source": [
    "# Q9. Write a Python Program, to print all the indexes of all occurences of\n",
    "# letter 'p' appeared in the string using loop:-\n",
    "# Input:- 'peter piper picked a peck of pickled peppers.'\n",
    "# Output:-\n",
    "# 0\n",
    "# 6\n",
    "# 8\n",
    "# 12\n",
    "# 21\n",
    "# 29\n",
    "# 37\n",
    "# 39\n",
    "# 40"
   ]
  },
  {
   "cell_type": "code",
   "execution_count": 255,
   "metadata": {},
   "outputs": [
    {
     "name": "stdout",
     "output_type": "stream",
     "text": [
      "Please type the sentance below, to check postion any letter in the given sentance:\n",
      "peter piper picked a peck of pickled peppers.\n",
      "position of letter: p\n",
      "0\n",
      "6\n",
      "8\n",
      "12\n",
      "21\n",
      "29\n",
      "37\n",
      "39\n",
      "40\n"
     ]
    }
   ],
   "source": [
    "print('Please type the sentance below, to check postion any letter in the given sentance:')\n",
    "a = input()\n",
    "check = input('position of letter: ')\n",
    "for index,i in enumerate(a):\n",
    "    if i == check:\n",
    "        print(index)\n",
    "    "
   ]
  },
  {
   "cell_type": "code",
   "execution_count": 257,
   "metadata": {},
   "outputs": [],
   "source": [
    "# Q10. Write a python program to find below output using loop:-\n",
    "# Input:- 'peter piper picked a peck of pickled peppers.'\n",
    "# Output:- ['peter', 'piper', 'picked', 'a', 'peck', 'of', 'pickled',\n",
    "# 'peppers']"
   ]
  },
  {
   "cell_type": "code",
   "execution_count": 271,
   "metadata": {},
   "outputs": [
    {
     "name": "stdout",
     "output_type": "stream",
     "text": [
      "['peter', 'piper', 'picked', 'a', 'peck', 'of', 'pickled', 'peppers.']\n"
     ]
    }
   ],
   "source": [
    "a = 'peter piper picked a peck of pickled peppers.'\n",
    "print(a.split())"
   ]
  },
  {
   "cell_type": "code",
   "execution_count": 272,
   "metadata": {},
   "outputs": [],
   "source": [
    "# Q11. Write a python program to find below output using loop:-\n",
    "# Input:- 'peter piper picked a peck of pickled peppers.'\n",
    "# Output:- 'peppers pickled of peck a picked piper peter'"
   ]
  },
  {
   "cell_type": "code",
   "execution_count": 285,
   "metadata": {},
   "outputs": [
    {
     "name": "stdout",
     "output_type": "stream",
     "text": [
      "peppers pickled of peck a picked piper peter\n"
     ]
    }
   ],
   "source": [
    "a = 'peter piper picked a peck of pickled peppers'\n",
    "a = (a.split()[::-1])\n",
    "print(\" \".join(a))\n",
    "    \n"
   ]
  },
  {
   "cell_type": "code",
   "execution_count": 286,
   "metadata": {},
   "outputs": [],
   "source": [
    "# Q12. Write a python program to find below output using loop:-\n",
    "# Input:- 'peter piper picked a peck of pickled peppers.'\n",
    "# Output:- '.sreppep delkcip fo kcep a dekcip repip retep'"
   ]
  },
  {
   "cell_type": "code",
   "execution_count": 297,
   "metadata": {},
   "outputs": [
    {
     "name": "stdout",
     "output_type": "stream",
     "text": [
      ".sreppep delkcip fo kcep a dekcip repip retep\n"
     ]
    }
   ],
   "source": [
    "a = 'peter piper picked a peck of pickled peppers.'\n",
    "a = (a[::-1])\n",
    "print(a)    "
   ]
  },
  {
   "cell_type": "code",
   "execution_count": 289,
   "metadata": {},
   "outputs": [],
   "source": [
    "# Q13. Write a python program to find below output using loop:-\n",
    "# Input:- 'peter piper picked a peck of pickled peppers.'\n",
    "# Output:- 'retep repip dekcip a kcep fo delkcip sreppep'"
   ]
  },
  {
   "cell_type": "code",
   "execution_count": 411,
   "metadata": {},
   "outputs": [
    {
     "name": "stdout",
     "output_type": "stream",
     "text": [
      "retep repip dekcip a kcep fo delkcip sreppep \n"
     ]
    }
   ],
   "source": [
    "a = 'peter piper picked a peck of pickled peppers'\n",
    "a = (a.split())\n",
    "new = \"\"\n",
    "for i in a:\n",
    "    i = (i[::-1])\n",
    "    new = new + i + \" \"\n",
    "print(new)"
   ]
  },
  {
   "cell_type": "code",
   "execution_count": 1,
   "metadata": {},
   "outputs": [],
   "source": [
    "# Q14. Write a python program to find below output using loop:-\n",
    "# Input:- 'peter piper picked a peck of pickled peppers.'\n",
    "# Output:- 'Peter Piper Picked A Peck Of Pickled Peppers'"
   ]
  },
  {
   "cell_type": "code",
   "execution_count": 5,
   "metadata": {},
   "outputs": [
    {
     "name": "stdout",
     "output_type": "stream",
     "text": [
      "Peter Piper Picked A Peck Of Pickled Peppers \n"
     ]
    }
   ],
   "source": [
    "a = 'peter piper picked a peck of pickled peppers'\n",
    "a = (a.split())\n",
    "new = \"\"\n",
    "for i in a:\n",
    "    i = (i[::1])\n",
    "    new = new + i + \" \"\n",
    "print(new.title())"
   ]
  },
  {
   "cell_type": "code",
   "execution_count": 6,
   "metadata": {},
   "outputs": [],
   "source": [
    "# Q15. Write a python program to find below output using loop:-\n",
    "# Input:- 'Peter Piper Picked A Peck Of Pickled Peppers.'\n",
    "# Output:- 'Peter piper picked a peck of pickled peppers'"
   ]
  },
  {
   "cell_type": "code",
   "execution_count": 7,
   "metadata": {},
   "outputs": [
    {
     "name": "stdout",
     "output_type": "stream",
     "text": [
      "Peter piper picked a peck of pickled peppers \n"
     ]
    }
   ],
   "source": [
    "a = 'Peter Piper Picked A Peck Of Pickled Peppers'\n",
    "a = (a.split())\n",
    "new = \"\"\n",
    "for i in a:\n",
    "    i = (i[::1])\n",
    "    new = new + i + \" \"\n",
    "print(new.capitalize())"
   ]
  },
  {
   "cell_type": "code",
   "execution_count": 8,
   "metadata": {},
   "outputs": [],
   "source": [
    "# Q16. Write a python program to implement index method using loop. If\n",
    "# sub_str is found in my_str then it will print the index\n",
    "# of first occurrence of first character of matching string in my_str:-\n",
    "# Input:- my_str = 'Peter Piper Picked A Peck Of Pickled Peppers.',\n",
    "# sub_str = 'Pickl'\n",
    "# Output:- 29"
   ]
  },
  {
   "cell_type": "code",
   "execution_count": 37,
   "metadata": {},
   "outputs": [
    {
     "name": "stdout",
     "output_type": "stream",
     "text": [
      "29\n",
      "29\n"
     ]
    }
   ],
   "source": [
    "my_str = 'Peter Piper Picked A Peck Of Pickled Peppers.'\n",
    "sub_str = 'Pickl'\n",
    "print(my_str.find(sub_str)) # To get the result directly\n",
    "for index, i in enumerate(my_str): # by using loop as requested in question\n",
    "    if index == my_str.find(sub_str):\n",
    "        print(index if index >= 0 else 'sub_str not found')       \n",
    "\n"
   ]
  },
  {
   "cell_type": "code",
   "execution_count": 30,
   "metadata": {},
   "outputs": [],
   "source": [
    "# Q17. Write a python program to implement replace method using loop. If\n",
    "# sub_str is found in my_str then it will replace the first\n",
    "# occurrence of sub_str with new_str else it will will print sub_str not\n",
    "# found:-\n",
    "# Input:- my_str = 'Peter Piper Picked A Peck Of Pickled Peppers.',\n",
    "# sub_str = 'Peck', new_str = 'Pack'\n",
    "# Output:- 'Peter Piper Picked A Pack Of Pickled Peppers.'"
   ]
  },
  {
   "cell_type": "code",
   "execution_count": 48,
   "metadata": {},
   "outputs": [
    {
     "name": "stdout",
     "output_type": "stream",
     "text": [
      "Peter Piper Picked A Pack Of Pickled Peppers.\n"
     ]
    }
   ],
   "source": [
    "my_str = 'Peter Piper Picked A Peck Of Pickled Peppers.'\n",
    "sub_str = 'Peck'\n",
    "new_str = 'Pack'\n",
    "if sub_str not in my_str:\n",
    "    print ('sub_str not found')\n",
    "else:\n",
    "    for index, i in enumerate(my_str):# by using loop as requested in question\n",
    "        if index == my_str.find(sub_str):\n",
    "            my_str = my_str.replace(sub_str,new_str)\n",
    "            print(my_str if index >= 0 else 'sub_str not found')"
   ]
  },
  {
   "cell_type": "code",
   "execution_count": 49,
   "metadata": {},
   "outputs": [],
   "source": [
    "# Q18. Write a python program to find below output (implements rjust and\n",
    "# ljust) using loop:-\n",
    "# Input:- 'Peter Piper Picked A Peck Of Pickled Peppers.', sub_str =\n",
    "# 'Peck',\n",
    "# Output:- '*********************Peck********************'"
   ]
  },
  {
   "cell_type": "code",
   "execution_count": 104,
   "metadata": {},
   "outputs": [
    {
     "name": "stdout",
     "output_type": "stream",
     "text": [
      "*********************Peck********************\n",
      "45\n",
      "45\n"
     ]
    }
   ],
   "source": [
    "my_str = 'Peter Piper Picked A Peck Of Pickled Peppers.'\n",
    "sub_str = 'Peck'\n",
    "new_str = \"\"\n",
    "for index, text in enumerate(my_str):\n",
    "    if index < my_str.find(sub_str):\n",
    "        new_str = new_str+text.replace(text,'*')\n",
    "new_str1 = new_str+sub_str\n",
    "new_str = \"\"\n",
    "for index, text in enumerate(my_str):\n",
    "    if index > my_str.find(sub_str)+len(sub_str)-1:\n",
    "        new_str = new_str+text.replace(text,'*')\n",
    "print(new_str1+new_str)\n",
    "new_str2 = new_str1+new_str\n",
    "\n",
    "print(len(new_str2)) # Check len of result\n",
    "print(len('*********************Peck********************')) # Check len of result requried in Question"
   ]
  },
  {
   "cell_type": "code",
   "execution_count": 105,
   "metadata": {},
   "outputs": [],
   "source": [
    "# Q19. Write a python program to find below output using loop:-\n",
    "# Input:- 'This is Python class', sep = ' is',\n",
    "# Output:- ['This', 'is', 'Python class']"
   ]
  },
  {
   "cell_type": "code",
   "execution_count": 3,
   "metadata": {},
   "outputs": [
    {
     "name": "stdout",
     "output_type": "stream",
     "text": [
      "['This', 'is', ' Python class']\n"
     ]
    }
   ],
   "source": [
    "my_str ='This is Python class'\n",
    "sep = ' is'\n",
    "new_str = ''\n",
    "for index, text in enumerate(my_str):\n",
    "    if index < my_str.find(sep):\n",
    "        new_str = new_str+text\n",
    "new_str1 = new_str+sep\n",
    "new_str1 = new_str1.split()\n",
    "new_str = \"\"\n",
    "for index, text in enumerate(my_str):\n",
    "    if index > my_str.find(sep)+len(sep)-1:\n",
    "        new_str = str(new_str+text)\n",
    "new_str1.append(new_str)\n",
    "print(new_str1)"
   ]
  },
  {
   "cell_type": "code",
   "execution_count": null,
   "metadata": {},
   "outputs": [],
   "source": [
    "my_str ='welcome is Python class'\n",
    "sep = ' is'\n",
    "new_str = ''\n",
    "for index, text in enumerate(my_str):\n",
    "    if index < my_str.find(sep):\n",
    "        new_str = new_str+text\n",
    "new_str1 = new_str+sep\n",
    "new_str1 = new_str1.split()\n",
    "new_str = \"\"\n",
    "for index, text in enumerate(my_str):\n",
    "    if index > my_str.find(sep)+len(sep)-1:\n",
    "        new_str = str(new_str+text)\n",
    "new_str1.append(new_str)\n",
    "print(new_str1)"
   ]
  }
 ],
 "metadata": {
  "kernelspec": {
   "display_name": "Python 3 (ipykernel)",
   "language": "python",
   "name": "python3"
  },
  "language_info": {
   "codemirror_mode": {
    "name": "ipython",
    "version": 3
   },
   "file_extension": ".py",
   "mimetype": "text/x-python",
   "name": "python",
   "nbconvert_exporter": "python",
   "pygments_lexer": "ipython3",
   "version": "3.9.7"
  }
 },
 "nbformat": 4,
 "nbformat_minor": 4
}
