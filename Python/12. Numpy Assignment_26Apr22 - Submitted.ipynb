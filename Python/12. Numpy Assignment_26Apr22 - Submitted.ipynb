{
 "cells": [
  {
   "cell_type": "code",
   "execution_count": 1,
   "id": "cb731b4f",
   "metadata": {},
   "outputs": [],
   "source": [
    "#Python NumPy (Array, Random, Math)"
   ]
  },
  {
   "cell_type": "code",
   "execution_count": 3,
   "id": "ab1f6683",
   "metadata": {},
   "outputs": [
    {
     "name": "stdout",
     "output_type": "stream",
     "text": [
      "1.20.3\n"
     ]
    }
   ],
   "source": [
    "# Write a Python program to print the NumPy version in your system.\n",
    "\n",
    "import numpy as np\n",
    "print(np.__version__)"
   ]
  },
  {
   "cell_type": "code",
   "execution_count": 7,
   "id": "f39e4ca5",
   "metadata": {},
   "outputs": [
    {
     "name": "stdout",
     "output_type": "stream",
     "text": [
      "[ 1  2  3  4  5  6  7  8  9 10 11 12 13 14 15 16 17 18 19 20]\n",
      "[20 19 18 17 16 15 14 13 12 11 10  9  8  7  6  5  4  3  2  1]\n"
     ]
    }
   ],
   "source": [
    "# Write a Python program to reverse an array (first element becomes last).\n",
    "\n",
    "import numpy as np\n",
    "x= np.arange(1,21)\n",
    "print (x)\n",
    "x = x[::-1]\n",
    "print(x)"
   ]
  },
  {
   "cell_type": "code",
   "execution_count": 11,
   "id": "df38c3c5",
   "metadata": {},
   "outputs": [
    {
     "name": "stdout",
     "output_type": "stream",
     "text": [
      "[1, 2, 3, 4, 5, 6, 7, 8]\n",
      "<class 'list'>\n",
      "[1 2 3 4 5 6 7 8]\n",
      "(1, 2, 3, 4, 5, 6, 7, 8)\n",
      "<class 'tuple'>\n",
      "[1 2 3 4 5 6 7 8]\n"
     ]
    }
   ],
   "source": [
    "# Write a Python program to convert a list and tuple into arrays.\n",
    "\n",
    "\n",
    "import numpy as np\n",
    "lst = [1, 2, 3, 4, 5, 6, 7, 8]\n",
    "print(lst)\n",
    "print(type(lst))\n",
    "print(np.asarray(lst))\n",
    "tpl = (1,2,3,4,5,6,7,8)\n",
    "print(tpl)\n",
    "print(type(tpl))\n",
    "print(np.asarray(tpl))"
   ]
  },
  {
   "cell_type": "code",
   "execution_count": 14,
   "id": "c38e0b46",
   "metadata": {},
   "outputs": [
    {
     "name": "stdout",
     "output_type": "stream",
     "text": [
      "[ 0 10 20 30 40 50 60]\n",
      "[10, 30, 40, 60, 70, 80]\n",
      "[10 30 40 60]\n"
     ]
    }
   ],
   "source": [
    "# Write a Python program to find common values between two arrays.\n",
    "\n",
    "\n",
    "import numpy as np\n",
    "ar1 = np.array([0,10,20,30,40,50,60])\n",
    "print(ar1)\n",
    "ar2 = [10,30,40,60,70,80]\n",
    "print(ar2)\n",
    "print(np.intersect1d(ar1, ar2))"
   ]
  },
  {
   "cell_type": "code",
   "execution_count": 34,
   "id": "91c6eea9",
   "metadata": {},
   "outputs": [
    {
     "name": "stdout",
     "output_type": "stream",
     "text": [
      "[ 0 10 20 30 40 50 60]\n",
      "[10, 30, 40, 60, 70, 80, 90]\n",
      "[False False False False False False False]\n",
      "[False False False False False False False]\n",
      "[False False False False False False False]\n",
      "[ True  True  True  True  True  True  True]\n",
      "[ True  True  True  True  True  True  True]\n"
     ]
    }
   ],
   "source": [
    "# Write a Python program compare two arrays using numpy.\n",
    "import numpy as np\n",
    "ar1 = np.array([0,10,20,30,40,50,60])\n",
    "print(ar1)\n",
    "ar2 = [10,30,40,60,70,80,90]\n",
    "print(ar2)\n",
    "print(np.equal(ar1, ar2))\n",
    "print(np.greater(ar1, ar2))\n",
    "print(np.greater_equal(ar1, ar2))\n",
    "print(np.less(ar1, ar2))\n",
    "print(np.less_equal(ar1, ar2))"
   ]
  },
  {
   "cell_type": "code",
   "execution_count": 38,
   "id": "0626d12c",
   "metadata": {},
   "outputs": [
    {
     "name": "stdout",
     "output_type": "stream",
     "text": [
      "[10 20 30 40 50 60 70 80 90]\n",
      "(9,)\n",
      "[[10 20 30]\n",
      " [40 50 60]\n",
      " [70 80 90]]\n"
     ]
    }
   ],
   "source": [
    "# Write a Python program to change the dimension of an array.\n",
    "\n",
    "import numpy as np\n",
    "ar1 = np.array([10,20,30,40,50,60,70,80,90])\n",
    "print(ar1)\n",
    "print(ar1.shape)\n",
    "ar1.shape = (3,3)\n",
    "print(ar1)"
   ]
  },
  {
   "cell_type": "code",
   "execution_count": 46,
   "id": "7ba0d9b2",
   "metadata": {},
   "outputs": [
    {
     "name": "stdout",
     "output_type": "stream",
     "text": [
      "[ 3  5  6  9 10 12 15 18 20 21 24 25 27 30 33 35 36 39 40 42 45 48 50 51\n",
      " 54 55 57 60 63 65 66 69 70 72 75 78 80 81 84 85 87 90 93 95 96 99]\n",
      "2318\n"
     ]
    }
   ],
   "source": [
    "# Write a Python program (using numpy) to sum of all the multiples \n",
    "#of 3 or 5 below 100.\n",
    "\n",
    "import numpy as np\n",
    "x = np.arange(1,100)\n",
    "n= x[(x % 3 == 0) | (x % 5 == 0)]\n",
    "print(n)\n",
    "print(n.sum())"
   ]
  },
  {
   "cell_type": "code",
   "execution_count": 44,
   "id": "4374ca60",
   "metadata": {},
   "outputs": [
    {
     "name": "stdout",
     "output_type": "stream",
     "text": [
      "[[0 1]\n",
      " [2 3]\n",
      " [4 5]]\n",
      "[[0, 1], [2, 3], [4, 5]]\n"
     ]
    }
   ],
   "source": [
    "# Write a Python program to convert a NumPy array into Python list structure. \n",
    "\n",
    "import numpy as np\n",
    "x= np.arange(6).reshape(3, 2)\n",
    "print(x)\n",
    "print(x.tolist())"
   ]
  },
  {
   "cell_type": "code",
   "execution_count": 51,
   "id": "e75c3bdf",
   "metadata": {},
   "outputs": [
    {
     "name": "stdout",
     "output_type": "stream",
     "text": [
      "[[10 20 30]\n",
      " [40 50 60]]\n",
      "[[100]\n",
      " [200]]\n",
      "[[ 10  20  30 100]\n",
      " [ 40  50  60 200]]\n"
     ]
    }
   ],
   "source": [
    "# Write a Python program to how to add an extra column to a numpy array.\n",
    "\n",
    "\n",
    "import numpy as np\n",
    "x = np.array([[10,20,30], [40,50,60]])\n",
    "print(x)\n",
    "y = np.array([[100], [200]])\n",
    "print(y)\n",
    "z = np.append(x,y, axis =1)\n",
    "print(z)"
   ]
  },
  {
   "cell_type": "code",
   "execution_count": 52,
   "id": "49a4d735",
   "metadata": {},
   "outputs": [
    {
     "name": "stdout",
     "output_type": "stream",
     "text": [
      "2\n",
      "0\n"
     ]
    }
   ],
   "source": [
    "# Write a Python program to check whether the numpy array is empty or not.\n",
    "\n",
    "\n",
    "import numpy as np\n",
    "x = np.array([2, 3])\n",
    "y = np.array([])\n",
    "print(x.size)\n",
    "print(y.size)"
   ]
  },
  {
   "cell_type": "code",
   "execution_count": 69,
   "id": "8cbc709b",
   "metadata": {},
   "outputs": [
    {
     "name": "stdout",
     "output_type": "stream",
     "text": [
      "[[0.27600718 0.99113173 0.5614232 ]\n",
      " [0.37624324 0.62080725 0.70067775]\n",
      " [0.16675249 0.92170156 0.95730146]]\n",
      "[[0.13252965 1.         0.47874898]\n",
      " [0.25411939 0.55078384 0.64766947]\n",
      " [0.         0.91577885 0.95896274]]\n"
     ]
    }
   ],
   "source": [
    "# Write a Python program to normalize a 3x3 random matrix.\n",
    "\n",
    "\n",
    "import numpy as np\n",
    "x= np.random.random((3,3))\n",
    "print(x)\n",
    "xmax = x.max()\n",
    "xmin = x.min()\n",
    "x = (x - xmin)/(xmax - xmin)\n",
    "print(x)"
   ]
  },
  {
   "cell_type": "code",
   "execution_count": 80,
   "id": "bd156caa",
   "metadata": {},
   "outputs": [
    {
     "data": {
      "text/plain": [
       "{'divide': 'ignore', 'over': 'ignore', 'under': 'ignore', 'invalid': 'ignore'}"
      ]
     },
     "execution_count": 80,
     "metadata": {},
     "output_type": "execute_result"
    }
   ],
   "source": [
    "# How to ignore all numpy warnings (not recommended)?\n",
    "\n",
    "\n",
    "import numpy as np\n",
    "np.seterr(all=\"ignore\")"
   ]
  }
 ],
 "metadata": {
  "kernelspec": {
   "display_name": "Python 3 (ipykernel)",
   "language": "python",
   "name": "python3"
  },
  "language_info": {
   "codemirror_mode": {
    "name": "ipython",
    "version": 3
   },
   "file_extension": ".py",
   "mimetype": "text/x-python",
   "name": "python",
   "nbconvert_exporter": "python",
   "pygments_lexer": "ipython3",
   "version": "3.9.7"
  }
 },
 "nbformat": 4,
 "nbformat_minor": 5
}
