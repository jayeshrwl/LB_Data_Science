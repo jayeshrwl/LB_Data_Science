{
 "cells": [
  {
   "cell_type": "code",
   "execution_count": 1,
   "metadata": {},
   "outputs": [],
   "source": [
    "#1. Declare a complex number and store it in a variable.\n",
    "# Check the type and print the id of the same."
   ]
  },
  {
   "cell_type": "code",
   "execution_count": 2,
   "metadata": {},
   "outputs": [
    {
     "name": "stdout",
     "output_type": "stream",
     "text": [
      "<class 'complex'>\n"
     ]
    }
   ],
   "source": [
    "a = 10+10j\n",
    "print(type(a))"
   ]
  },
  {
   "cell_type": "code",
   "execution_count": 3,
   "metadata": {},
   "outputs": [],
   "source": [
    "#2. Arithmetic Operations on complex number\n",
    "# Take two different complex numbers.\n",
    "# Store them in two different variables.\n",
    "# Do below operations on them:-\n",
    "#  Find sum of both numbers\n",
    "#  Find difference between them\n",
    "#  Find the product of both numbers.\n",
    "#  Find value after dividing first num with second number\n",
    "#  Find the result of the first num to the power of the second number."
   ]
  },
  {
   "cell_type": "code",
   "execution_count": 4,
   "metadata": {},
   "outputs": [
    {
     "name": "stdout",
     "output_type": "stream",
     "text": [
      "(30+30j)\n",
      "(10+10j)\n",
      "400j\n",
      "(2+0j)\n",
      "(-115287988168.66237-53760157782.42073j)\n"
     ]
    }
   ],
   "source": [
    "a = 20+20j\n",
    "b = 10+10j\n",
    "print(a+b)\n",
    "print(a-b)\n",
    "print(a*b)\n",
    "print(a/b)\n",
    "print(a**b)"
   ]
  },
  {
   "cell_type": "code",
   "execution_count": 5,
   "metadata": {},
   "outputs": [],
   "source": [
    "#3 Comparison Operation not applicable between instance of complex values.\n",
    "# Object reusability concept is not applicable on complex number"
   ]
  },
  {
   "cell_type": "code",
   "execution_count": 7,
   "metadata": {},
   "outputs": [
    {
     "ename": "TypeError",
     "evalue": "'>' not supported between instances of 'complex' and 'complex'",
     "output_type": "error",
     "traceback": [
      "\u001b[1;31m---------------------------------------------------------------------------\u001b[0m",
      "\u001b[1;31mTypeError\u001b[0m                                 Traceback (most recent call last)",
      "\u001b[1;32m<ipython-input-7-316663862a1c>\u001b[0m in \u001b[0;36m<module>\u001b[1;34m\u001b[0m\n\u001b[0;32m      1\u001b[0m \u001b[0ma\u001b[0m \u001b[1;33m=\u001b[0m \u001b[1;36m20\u001b[0m\u001b[1;33m+\u001b[0m\u001b[1;36m20j\u001b[0m\u001b[1;33m\u001b[0m\u001b[1;33m\u001b[0m\u001b[0m\n\u001b[0;32m      2\u001b[0m \u001b[0mb\u001b[0m \u001b[1;33m=\u001b[0m \u001b[1;36m10\u001b[0m\u001b[1;33m+\u001b[0m\u001b[1;36m10j\u001b[0m\u001b[1;33m\u001b[0m\u001b[1;33m\u001b[0m\u001b[0m\n\u001b[1;32m----> 3\u001b[1;33m \u001b[0mprint\u001b[0m\u001b[1;33m(\u001b[0m\u001b[0ma\u001b[0m\u001b[1;33m>\u001b[0m\u001b[0mb\u001b[0m\u001b[1;33m)\u001b[0m\u001b[1;33m\u001b[0m\u001b[1;33m\u001b[0m\u001b[0m\n\u001b[0m",
      "\u001b[1;31mTypeError\u001b[0m: '>' not supported between instances of 'complex' and 'complex'"
     ]
    }
   ],
   "source": [
    "a = 20+20j\n",
    "b = 10+10j\n",
    "print(a>b) #TypeError: '>' not supported between instances of 'complex' and 'complex'"
   ]
  },
  {
   "cell_type": "code",
   "execution_count": 8,
   "metadata": {},
   "outputs": [],
   "source": [
    "#4. Equality Operator\n",
    "# Take two different complex numbers.\n",
    "# Store them in two different variables.\n",
    "# Equate them using equality operators (==, !=)\n",
    "# Observe the output(return type should be boolean)"
   ]
  },
  {
   "cell_type": "code",
   "execution_count": 9,
   "metadata": {},
   "outputs": [
    {
     "name": "stdout",
     "output_type": "stream",
     "text": [
      "False\n",
      "True\n"
     ]
    }
   ],
   "source": [
    "a = 20+20j\n",
    "b = 10+10j\n",
    "print(a==b)\n",
    "print(a!=b)"
   ]
  },
  {
   "cell_type": "code",
   "execution_count": 10,
   "metadata": {},
   "outputs": [],
   "source": [
    "#5. Logical operators\n",
    "# Observe the output of below code\n",
    "# Cross check the output manually\n",
    "# print(10+20j and 20+30j) #20+30j\n",
    "# #----------------------------------------->Output is 20+30j\n",
    "# print(0+0j and 20+30j) #0+0j\n",
    "# #----------------------------------------->Output is 0j\n",
    "# print(20+30j and 0+0j) #0+0j\n",
    "# #----------------------------------------->Output is 0j\n",
    "# print(0+0j and 0+0j) #0+0j\n",
    "# #----------------------------------------->Output is 0j\n",
    "# print(10+20j or 20+30j) #10+20j\n",
    "# #----------------------------------------->Output is 10+20j\n",
    "# print(0+0j or 20+30j) #20+30j\n",
    "# #----------------------------------------->Output is 20+30j\n",
    "# print(20+30j or 0+0j) #20+30j\n",
    "# #----------------------------------------->Output is 20+30j\n",
    "# print(0+0j or 0+0j) #0+0j\n",
    "# #----------------------------------------->Output is 0j\n",
    "# print(not 10+20j) #False\n",
    "# #----------------------------------------->Output is False\n",
    "# print(not 0+0j) #True\n",
    "# #----------------------------------------->Output is True"
   ]
  },
  {
   "cell_type": "code",
   "execution_count": 11,
   "metadata": {},
   "outputs": [
    {
     "name": "stdout",
     "output_type": "stream",
     "text": [
      "(20+30j)\n"
     ]
    }
   ],
   "source": [
    "print(10+20j and 20+30j)"
   ]
  },
  {
   "cell_type": "code",
   "execution_count": 12,
   "metadata": {},
   "outputs": [
    {
     "name": "stdout",
     "output_type": "stream",
     "text": [
      "0j\n"
     ]
    }
   ],
   "source": [
    "print(0+0j and 20+30j)"
   ]
  },
  {
   "cell_type": "code",
   "execution_count": 14,
   "metadata": {},
   "outputs": [
    {
     "name": "stdout",
     "output_type": "stream",
     "text": [
      "0j\n"
     ]
    }
   ],
   "source": [
    "print(20+30j and 0+0j)"
   ]
  },
  {
   "cell_type": "code",
   "execution_count": 17,
   "metadata": {},
   "outputs": [
    {
     "name": "stdout",
     "output_type": "stream",
     "text": [
      "0j\n"
     ]
    }
   ],
   "source": [
    "print(0+0j and 0+0j)"
   ]
  },
  {
   "cell_type": "code",
   "execution_count": 18,
   "metadata": {},
   "outputs": [
    {
     "name": "stdout",
     "output_type": "stream",
     "text": [
      "(10+20j)\n"
     ]
    }
   ],
   "source": [
    "print(10+20j or 20+30j)"
   ]
  },
  {
   "cell_type": "code",
   "execution_count": 20,
   "metadata": {},
   "outputs": [
    {
     "name": "stdout",
     "output_type": "stream",
     "text": [
      "(20+30j)\n"
     ]
    }
   ],
   "source": [
    "print(0+0j or 20+30j)"
   ]
  },
  {
   "cell_type": "code",
   "execution_count": 21,
   "metadata": {},
   "outputs": [
    {
     "name": "stdout",
     "output_type": "stream",
     "text": [
      "(20+30j)\n"
     ]
    }
   ],
   "source": [
    "print(20+30j or 0+0j)"
   ]
  },
  {
   "cell_type": "code",
   "execution_count": 22,
   "metadata": {},
   "outputs": [
    {
     "name": "stdout",
     "output_type": "stream",
     "text": [
      "0j\n"
     ]
    }
   ],
   "source": [
    "print(0+0j or 0+0j)"
   ]
  },
  {
   "cell_type": "code",
   "execution_count": 23,
   "metadata": {},
   "outputs": [
    {
     "name": "stdout",
     "output_type": "stream",
     "text": [
      "False\n"
     ]
    }
   ],
   "source": [
    "print(not 10+20j)"
   ]
  },
  {
   "cell_type": "code",
   "execution_count": 24,
   "metadata": {},
   "outputs": [
    {
     "name": "stdout",
     "output_type": "stream",
     "text": [
      "True\n"
     ]
    }
   ],
   "source": [
    "print(not 0+0j)"
   ]
  },
  {
   "cell_type": "code",
   "execution_count": 25,
   "metadata": {},
   "outputs": [],
   "source": [
    "# 6. What is the output of the expression inside the print statement.\n",
    "# Cross check before running the program.\n",
    "# a = 10+20j\n",
    "# b = 10+20j\n",
    "# print(a is b) #False #True or False?\n",
    "# print(a is not b) #True #True or False?"
   ]
  },
  {
   "cell_type": "code",
   "execution_count": 26,
   "metadata": {},
   "outputs": [
    {
     "name": "stdout",
     "output_type": "stream",
     "text": [
      "False\n",
      "True\n"
     ]
    }
   ],
   "source": [
    "a = 10+20j\n",
    "b = 10+20j\n",
    "print(a is b)\n",
    "print(a is not b) "
   ]
  },
  {
   "cell_type": "code",
   "execution_count": 27,
   "metadata": {},
   "outputs": [],
   "source": [
    "# 7. Membership operation\n",
    "# in, not in are two membership operators and it returns boolean value\n",
    "# print('2.7' in 'Python2.7.8') #True\n",
    "# print(10+20j in [10,10.20,10+20j,'Python']) #True\n",
    "# print(10+20j in (10,10.20,10+20j,'Python')) #True\n",
    "# print(30+40j in {1,20.30,30+40j}) #True\n",
    "# print(30+40j in {1:100, 2.3:200, 30+40j:300}) #True\n",
    "# print(10 in range(20)) #True"
   ]
  },
  {
   "cell_type": "code",
   "execution_count": 28,
   "metadata": {},
   "outputs": [
    {
     "name": "stdout",
     "output_type": "stream",
     "text": [
      "True\n"
     ]
    }
   ],
   "source": [
    "print('2.7' in 'Python2.7.8')"
   ]
  },
  {
   "cell_type": "code",
   "execution_count": 29,
   "metadata": {},
   "outputs": [
    {
     "name": "stdout",
     "output_type": "stream",
     "text": [
      "True\n"
     ]
    }
   ],
   "source": [
    "print(10+20j in [10,10.20,10+20j,'Python'])"
   ]
  },
  {
   "cell_type": "code",
   "execution_count": 30,
   "metadata": {},
   "outputs": [
    {
     "name": "stdout",
     "output_type": "stream",
     "text": [
      "True\n"
     ]
    }
   ],
   "source": [
    "print(10+20j in (10,10.20,10+20j,'Python'))"
   ]
  },
  {
   "cell_type": "code",
   "execution_count": 32,
   "metadata": {},
   "outputs": [
    {
     "name": "stdout",
     "output_type": "stream",
     "text": [
      "True\n"
     ]
    }
   ],
   "source": [
    "print(30+40j in {1,20.30,30+40j}) "
   ]
  },
  {
   "cell_type": "code",
   "execution_count": 33,
   "metadata": {},
   "outputs": [
    {
     "name": "stdout",
     "output_type": "stream",
     "text": [
      "True\n"
     ]
    }
   ],
   "source": [
    "print(30+40j in {1:100, 2.3:200, 30+40j:300})"
   ]
  },
  {
   "cell_type": "code",
   "execution_count": 34,
   "metadata": {},
   "outputs": [
    {
     "name": "stdout",
     "output_type": "stream",
     "text": [
      "True\n"
     ]
    }
   ],
   "source": [
    "print(10 in range(20))"
   ]
  },
  {
   "cell_type": "code",
   "execution_count": null,
   "metadata": {},
   "outputs": [],
   "source": []
  }
 ],
 "metadata": {
  "kernelspec": {
   "display_name": "Python 3",
   "language": "python",
   "name": "python3"
  },
  "language_info": {
   "codemirror_mode": {
    "name": "ipython",
    "version": 3
   },
   "file_extension": ".py",
   "mimetype": "text/x-python",
   "name": "python",
   "nbconvert_exporter": "python",
   "pygments_lexer": "ipython3",
   "version": "3.8.5"
  }
 },
 "nbformat": 4,
 "nbformat_minor": 4
}
