{
 "cells": [
  {
   "cell_type": "code",
   "execution_count": 1,
   "metadata": {
    "id": "OG2JlAXx3VoJ"
   },
   "outputs": [],
   "source": [
    "#Q1. Declare a string and store it in a variable. \n",
    "#Check the type and print the id of the same."
   ]
  },
  {
   "cell_type": "code",
   "execution_count": 9,
   "metadata": {},
   "outputs": [
    {
     "name": "stdout",
     "output_type": "stream",
     "text": [
      "<class 'str'>\n",
      "2019941191888\n"
     ]
    }
   ],
   "source": [
    "#REPLY Q1\n",
    "a = \"abcdefghijklmnopqrstuvwxyz\"\n",
    "print(type(a))\n",
    "print(id(a))"
   ]
  },
  {
   "cell_type": "code",
   "execution_count": null,
   "metadata": {},
   "outputs": [],
   "source": [
    "##################################################################"
   ]
  },
  {
   "cell_type": "code",
   "execution_count": 6,
   "metadata": {
    "id": "wPxm3G8W3dqN"
   },
   "outputs": [],
   "source": [
    "# # Q2. Which are valid/invalid strings\n",
    "# 1. 'This is Python class'\n",
    "# valid/invalid\n",
    "\n",
    "# 2. \"This is Python class\"\n",
    "# valid/invalid\n",
    "\n",
    "# 3. '''This is Python class'''\n",
    "# valid/invalid\n",
    "\n",
    "# 4. \"\"\"This is Python class\"\"\"\n",
    "# valid/invalid\n",
    "\n",
    "# 5. 'This is Python's class'\n",
    "# valid/invalid\n",
    "\n",
    "# 6. \"Learnbay provides \"Java\", \"Python\" classes\"\n",
    "# valid/invalid\n",
    "\n",
    "# 7. \"Learnbay provides 'Java', 'Python' classes\"\n",
    "# valid/invalid\n",
    "\n",
    "# 8. \"This is Python's class\"\n",
    "# valid/invalid\n",
    "\n",
    "# 9. \"\"\"Learnbay provides \"Java\", \"Python\" classes\"\"\"\n",
    "# valid/invalid\n",
    "\n",
    "# 10. '''Learnbay provides \"Java\", \"Python\" classes'''\n",
    "# valid/invalid   #\n",
    "\n",
    "# 11. '''Learnbay provides\n",
    "# \"Java\", \"Python\" \n",
    "# classes'''\n",
    "# valid/invalid\n",
    "\n",
    "# 12. 'This is\n",
    "# Python \n",
    "# class'\n",
    "# valid/invalid"
   ]
  },
  {
   "cell_type": "code",
   "execution_count": 8,
   "metadata": {},
   "outputs": [],
   "source": [
    "# #  REPLY Q2.\n",
    "\n",
    "# 1. 'This is Python class'\n",
    "# valid\n",
    "\n",
    "# 2. \"This is Python class\"\n",
    "# valid\n",
    "\n",
    "# 3. '''This is Python class'''\n",
    "# valid\n",
    "\n",
    "# 4. \"\"\"This is Python class\"\"\"\n",
    "# valid\n",
    "\n",
    "# 5. 'This is Python's class'\n",
    "# invalid\n",
    "\n",
    "# 6. \"Learnbay provides \"Java\", \"Python\" classes\"\n",
    "# invalid\n",
    "\n",
    "# 7. \"Learnbay provides 'Java', 'Python' classes\"\n",
    "# valid\n",
    "\n",
    "# 8. \"This is Python's class\"\n",
    "# valid\n",
    "\n",
    "# 9. \"\"\"Learnbay provides \"Java\", \"Python\" classes\"\"\"\n",
    "# valid\n",
    "\n",
    "# 10. '''Learnbay provides \"Java\", \"Python\" classes'''\n",
    "# valid\n",
    "\n",
    "# 11. '''Learnbay provides\n",
    "# \"Java\", \"Python\" \n",
    "# classes'''\n",
    "# valid\n",
    "\n",
    "# 12. 'This is\n",
    "# Python \n",
    "# class'\n",
    "# invalid"
   ]
  },
  {
   "cell_type": "code",
   "execution_count": null,
   "metadata": {},
   "outputs": [],
   "source": [
    "####################################################################################"
   ]
  },
  {
   "cell_type": "code",
   "execution_count": 10,
   "metadata": {
    "id": "Drx8fhT23g7a"
   },
   "outputs": [],
   "source": [
    "# Q3. \n",
    "#Write the code to get the output mentioned below print statement\n",
    "# my_str = \"Although that way may not be obvious at first unless you're Dutch.\"\n",
    "# my_str1 = \"Although that way may not be obvious at first unless you're Dutch.\"\n",
    "\n",
    "# print()\n",
    "# #output:- The length of my_str is 66\n",
    "\n",
    "# print()\n",
    "# #output:- id of my_str and my_str1 is same? - True\n",
    "\n",
    "# print()\n",
    "# #output:- Type of my_str is: str"
   ]
  },
  {
   "cell_type": "code",
   "execution_count": 26,
   "metadata": {},
   "outputs": [
    {
     "name": "stdout",
     "output_type": "stream",
     "text": [
      "The lenght of my_str is 66\n",
      "id of my_str and my_str1 is same? - False\n",
      "Type of my_str is: <class 'str'>\n"
     ]
    }
   ],
   "source": [
    "my_str = \"Although that way may not be obvious at first unless you're Dutch.\"\n",
    "my_str1 = \"Although that way may not be obvious at first unless you're Dutch.\"\n",
    "\n",
    "print(f'The lenght of my_str is {len(my_str)}')\n",
    "print(f'id of my_str and my_str1 is same? - {id(my_str) == id(my_str1)}')\n",
    "print(f'Type of my_str is: {type(my_str)}')"
   ]
  },
  {
   "cell_type": "code",
   "execution_count": null,
   "metadata": {},
   "outputs": [],
   "source": [
    "#######################################################"
   ]
  },
  {
   "cell_type": "code",
   "execution_count": 28,
   "metadata": {
    "id": "403e-I3A3lCO"
   },
   "outputs": [],
   "source": [
    "# Q4.\n",
    "# #Indexing\n",
    "# my_str = \"Although 8 that way may not be obvious at first unless you're Dutch\"\n",
    "# #Write the code to get the output,instructions are mentioned below print statement. use indexing\n",
    "\n",
    "# print()\n",
    "# #output:- The first character in my_str is: A\n",
    "# #Note:- Use positive indexing\n",
    "\n",
    "# print()\n",
    "# #output:- The first character in my_str is: h\n",
    "# #Note:- Use len() function.\n",
    "\n",
    "# print()\n",
    "# #output:- The character at index 10 in my_str is: ' '\n",
    "# #Note:- Use positive indexing\n",
    "\n",
    "# print()\n",
    "# #output:- The last character in my_str is: h\n",
    "# #Note:- Use negative indexing.\n",
    "\n",
    "# print()\n",
    "# #output:- The last character in my_str is: h\n",
    "# #Note:- Use len() function.\n",
    "\n",
    "# print()\n",
    "# #output:- The character in my_str is: 8\n",
    "# #Note:- Use positive index"
   ]
  },
  {
   "cell_type": "code",
   "execution_count": 1,
   "metadata": {},
   "outputs": [
    {
     "name": "stdout",
     "output_type": "stream",
     "text": [
      "The first character in my_str is: A\n",
      "The first character in my_str is: A\n",
      "The character at index 10 in my_str is:  ' '\n",
      "The last character in my_str is: h\n",
      "The last character in my_str is: h\n",
      "{'i', 'm', 'f', 'e', 'D', 'h', 'y', '8', \"'\", ' ', 's', 'u', 'l', 'o', 'b', 'r', 'g', 'A', 'v', 'w', 'c', 't', 'a', 'n'}\n",
      "The character in my_str is: 8\n"
     ]
    }
   ],
   "source": [
    "my_str = \"Although 8 that way may not be obvious at first unless you're Dutch\"\n",
    "print(f'The first character in my_str is: {my_str[0]}')\n",
    "print(f'The first character in my_str is: {my_str[len(my_str)-len(my_str)]}') # To get first charachter indexed at 0 - Incorrect value in Question\n",
    "print(f\"The character at index 10 in my_str is:  '{my_str[10]}'\")\n",
    "print(f'The last character in my_str is: {my_str[-1]}')\n",
    "print(f'The last character in my_str is: {my_str[len(my_str)-1]}') # In Question its a repeatation hence point 2 is modified\n",
    "print(set(my_str))\n",
    "print(f'The character in my_str is: {my_str[9]}') #Appears 9th is Missing in the question to get \"8\" - as you can see unique character are more than 8\n"
   ]
  },
  {
   "cell_type": "code",
   "execution_count": null,
   "metadata": {},
   "outputs": [],
   "source": [
    "###############################################################################"
   ]
  },
  {
   "cell_type": "code",
   "execution_count": 108,
   "metadata": {
    "id": "NK_QdtsM3luu"
   },
   "outputs": [],
   "source": [
    "#Q5.\n",
    "# #Slicing\n",
    "# my_str = \"Although that way may not be obvious at first unless you're Dutch.\"\n",
    "# #Write the code to get the output,instructions are mentioned below print statement. use slicing\n",
    "# print()\n",
    "# #output:- You have sliced: Although that way may not be obvious at first unless you're Dutch.Without begin, end and step\n",
    "\n",
    "\n",
    "# print()\n",
    "# #output:- You have sliced: Although that way may not be obvious at first unless you're Dutch.with begin as 0 end using len and without step\n",
    "\n",
    "\n",
    "# print()\n",
    "# #output:- You have sliced: Although that way may not be obvious at first unless you're Dutch.without begin and end but using step\n",
    "\n",
    "\n",
    "# print()\n",
    "# #output:- You have sliced: Although that way may not be obvious at first unless you're Dutch.With begin, end and step\n",
    "\n",
    "\n",
    "# print()\n",
    "# #output:- You have sliced:   .with using begin and end using postive values and step as negative values.\n",
    "# #Slicing command should print empty string.\n",
    "\n",
    "\n",
    "# print()\n",
    "# #output:- You have sliced: Atog htwymyntb biu tfrtuls o'eDth\n",
    "\n",
    "\n",
    "# print()\n",
    "# #output:- You have sliced: Ahgttam tebo  r lsorDc\n",
    "\n",
    "\n",
    "# print()\n",
    "# #output:- You have sliced: .hctuD er'uoy sselnu tsrif ta suoivbo eb ton yam yaw taht hguohtlA. Use only step\n",
    "\n",
    "\n",
    "# print()\n",
    "# #output:- You have sliced: .hctuD er'uoy sselnu tsrif ta suoivbo eb ton yam yaw taht hguohtlA. Use begin end and step.\n",
    "\n",
    "\n",
    "# print()\n",
    "# #output:- You have sliced: .cu ruysen si asovoe o a a athuhl. use only step\n",
    "\n",
    "\n",
    "# print()\n",
    "# #output:- You have sliced: .cu ruysen si asovoe o a a athuhl. use begin, end and step.\n",
    "\n",
    "\n",
    "# print(my_str[10:17:-1])\n",
    "# #What will be the output?\n",
    "\n",
    "\n",
    "# print()\n",
    "# #output:- You have sliced: yaw ta, Using begin, end and step.\n",
    "\n",
    "# print()\n",
    "# #output:- You have sliced: ess you. Using begin, end and step."
   ]
  },
  {
   "cell_type": "code",
   "execution_count": 115,
   "metadata": {},
   "outputs": [],
   "source": [
    "# REPLY Q5\n",
    "my_str = \"Although that way may not be obvious at first unless you're Dutch.\""
   ]
  },
  {
   "cell_type": "code",
   "execution_count": 116,
   "metadata": {},
   "outputs": [
    {
     "name": "stdout",
     "output_type": "stream",
     "text": [
      "You have sliced: Although that way may not be obvious at first unless you're Dutch.\n"
     ]
    }
   ],
   "source": [
    "print(f'You have sliced: {my_str[::]}')\n",
    "#output:- You have sliced: Although that way may not be obvious at first unless you're Dutch.Without begin, end and step"
   ]
  },
  {
   "cell_type": "code",
   "execution_count": 117,
   "metadata": {},
   "outputs": [
    {
     "name": "stdout",
     "output_type": "stream",
     "text": [
      "You have sliced: Although that way may not be obvious at first unless you're Dutch.\n"
     ]
    }
   ],
   "source": [
    "print(f'You have sliced: {my_str[0::]}')\n",
    "# output:- You have sliced: Although that way may not be obvious at first unless you're Dutch.\n",
    "# with begin as 0 end using len and without step"
   ]
  },
  {
   "cell_type": "code",
   "execution_count": 122,
   "metadata": {},
   "outputs": [
    {
     "name": "stdout",
     "output_type": "stream",
     "text": [
      "You have sliced: Although that way may not be obvious at first unless you're Dutch.\n"
     ]
    }
   ],
   "source": [
    "print(f'You have sliced: {my_str[::1]}') # SyntaxError: invalid syntax\n",
    "# output:- You have sliced: Although that way may not be obvious at first unless you're Dutch.\n",
    "# without begin and end but using step\n"
   ]
  },
  {
   "cell_type": "code",
   "execution_count": 127,
   "metadata": {},
   "outputs": [
    {
     "name": "stdout",
     "output_type": "stream",
     "text": [
      "You have sliced: \n"
     ]
    }
   ],
   "source": [
    "print(f'You have sliced: {my_str[1:25:-1]}')\n",
    "#output:- You have sliced:   .with using begin and end using postive values and step as negative values.\n",
    "#Slicing command should print empty string."
   ]
  },
  {
   "cell_type": "code",
   "execution_count": 128,
   "metadata": {},
   "outputs": [
    {
     "name": "stdout",
     "output_type": "stream",
     "text": [
      "You have sliced: Atog htwymyntb biu tfrtuls o'eDth\n"
     ]
    }
   ],
   "source": [
    "print(f'You have sliced: {my_str[::2]}')\n",
    "#output:- You have sliced: Atog htwymyntb biu tfrtuls o'eDth\n"
   ]
  },
  {
   "cell_type": "code",
   "execution_count": 129,
   "metadata": {},
   "outputs": [
    {
     "name": "stdout",
     "output_type": "stream",
     "text": [
      "You have sliced: Ahgttam tebo  r lsorDc\n"
     ]
    }
   ],
   "source": [
    "print(f'You have sliced: {my_str[::3]}')\n",
    "#output:- You have sliced: Ahgttam tebo  r lsorDc"
   ]
  },
  {
   "cell_type": "code",
   "execution_count": 130,
   "metadata": {},
   "outputs": [
    {
     "name": "stdout",
     "output_type": "stream",
     "text": [
      "You have sliced: .hctuD er'uoy sselnu tsrif ta suoivbo eb ton yam yaw taht hguohtlA\n"
     ]
    }
   ],
   "source": [
    "print(f'You have sliced: {my_str[::-1]}')\n",
    "#output:- You have sliced: .hctuD er'uoy sselnu tsrif ta suoivbo eb ton yam yaw taht hguohtlA. Use only step\n"
   ]
  },
  {
   "cell_type": "code",
   "execution_count": 134,
   "metadata": {},
   "outputs": [
    {
     "name": "stdout",
     "output_type": "stream",
     "text": [
      "You have sliced: .cu ruysen si asovoe o a a athuhl\n"
     ]
    }
   ],
   "source": [
    "print(f'You have sliced: {my_str[::-2]}')\n",
    "#output:- You have sliced: .cu ruysen si asovoe o a a athuhl. use only step\n"
   ]
  },
  {
   "cell_type": "code",
   "execution_count": 135,
   "metadata": {},
   "outputs": [
    {
     "name": "stdout",
     "output_type": "stream",
     "text": [
      "You have sliced: .cu ruysen si asovoe o a a athuhl\n"
     ]
    }
   ],
   "source": [
    "print(f'You have sliced: {my_str[-1:0:-2]}')\n",
    "#output:- You have sliced: .cu ruysen si asovoe o a a athuhl. use begin, end and step.\n"
   ]
  },
  {
   "cell_type": "code",
   "execution_count": 136,
   "metadata": {},
   "outputs": [
    {
     "name": "stdout",
     "output_type": "stream",
     "text": [
      "\n"
     ]
    }
   ],
   "source": [
    "print(my_str[10:17:-1]) # No Out Put\n",
    "#What will be the output?"
   ]
  },
  {
   "cell_type": "code",
   "execution_count": 139,
   "metadata": {},
   "outputs": [
    {
     "name": "stdout",
     "output_type": "stream",
     "text": [
      "You have sliced: yaw ta\n"
     ]
    }
   ],
   "source": [
    "print(f'You have sliced: {my_str[16:10:-1]}')\n",
    "#output:- You have sliced: yaw ta, Using begin, end and step.\n"
   ]
  },
  {
   "cell_type": "code",
   "execution_count": 2,
   "metadata": {},
   "outputs": [
    {
     "name": "stdout",
     "output_type": "stream",
     "text": [
      "You have sliced: less yo\n"
     ]
    }
   ],
   "source": [
    "print(f'You have sliced: {my_str[-17:-10:1]}')\n",
    "#output:- You have sliced: ess you. Using begin, end and step."
   ]
  },
  {
   "cell_type": "code",
   "execution_count": null,
   "metadata": {},
   "outputs": [],
   "source": [
    "#######################################################################"
   ]
  },
  {
   "cell_type": "code",
   "execution_count": 143,
   "metadata": {
    "id": "qUSYa5x-3n5j"
   },
   "outputs": [],
   "source": [
    "# Q7.\n",
    "# #Basic operation on string\n",
    "# str1 = 'Learnbay'\n",
    "# str2 = 'Python'\n",
    "\n",
    "# #Write the code to get the output,instructions are mentioned below.\n",
    "# #Output is: Learnbay Python\n",
    "\n",
    "# #Error: TypeError: can only concatenate str (not \"int\") to str\n",
    "\n",
    "# #Error: TypeError: can only concatenate str (not \"float\") to str\n",
    "\n",
    "# #Find below Output\n",
    "# #Output is: LearnbayLearnbayLearnbay\n",
    "\n",
    "# #Error: TypeError: can't multiply sequence by non-int of type 'float'\n",
    "\n",
    "# #Error: TypeError: can't multiply sequence by non-int of type 'str'"
   ]
  },
  {
   "cell_type": "code",
   "execution_count": 149,
   "metadata": {},
   "outputs": [],
   "source": [
    "## REPLY Q7\n",
    "str1 = 'Learnbay'\n",
    "str2 = 'Python'"
   ]
  },
  {
   "cell_type": "code",
   "execution_count": 150,
   "metadata": {},
   "outputs": [
    {
     "name": "stdout",
     "output_type": "stream",
     "text": [
      "Learnbay Python\n"
     ]
    }
   ],
   "source": [
    "print(str1 + \" \" + str2)\n",
    "#Output is: Learnbay Python"
   ]
  },
  {
   "cell_type": "code",
   "execution_count": 152,
   "metadata": {},
   "outputs": [
    {
     "ename": "TypeError",
     "evalue": "can only concatenate str (not \"int\") to str",
     "output_type": "error",
     "traceback": [
      "\u001b[1;31m---------------------------------------------------------------------------\u001b[0m",
      "\u001b[1;31mTypeError\u001b[0m                                 Traceback (most recent call last)",
      "\u001b[1;32m<ipython-input-152-8371fd0549d5>\u001b[0m in \u001b[0;36m<module>\u001b[1;34m\u001b[0m\n\u001b[0;32m      1\u001b[0m \u001b[1;31m#Error: TypeError: can only concatenate str (not \"int\") to str\u001b[0m\u001b[1;33m\u001b[0m\u001b[1;33m\u001b[0m\u001b[1;33m\u001b[0m\u001b[0m\n\u001b[1;32m----> 2\u001b[1;33m \u001b[0mprint\u001b[0m\u001b[1;33m(\u001b[0m\u001b[0mstr1\u001b[0m \u001b[1;33m+\u001b[0m \u001b[1;34m\" \"\u001b[0m \u001b[1;33m+\u001b[0m \u001b[1;36m10\u001b[0m\u001b[1;33m)\u001b[0m\u001b[1;33m\u001b[0m\u001b[1;33m\u001b[0m\u001b[0m\n\u001b[0m",
      "\u001b[1;31mTypeError\u001b[0m: can only concatenate str (not \"int\") to str"
     ]
    }
   ],
   "source": [
    "#Error: TypeError: can only concatenate str (not \"int\") to str\n",
    "print(str1 + \" \" + 10)"
   ]
  },
  {
   "cell_type": "code",
   "execution_count": 153,
   "metadata": {},
   "outputs": [
    {
     "ename": "TypeError",
     "evalue": "can only concatenate str (not \"float\") to str",
     "output_type": "error",
     "traceback": [
      "\u001b[1;31m---------------------------------------------------------------------------\u001b[0m",
      "\u001b[1;31mTypeError\u001b[0m                                 Traceback (most recent call last)",
      "\u001b[1;32m<ipython-input-153-a7425d716098>\u001b[0m in \u001b[0;36m<module>\u001b[1;34m\u001b[0m\n\u001b[0;32m      1\u001b[0m \u001b[1;31m#Error: TypeError: can only concatenate str (not \"float\") to str\u001b[0m\u001b[1;33m\u001b[0m\u001b[1;33m\u001b[0m\u001b[1;33m\u001b[0m\u001b[0m\n\u001b[1;32m----> 2\u001b[1;33m \u001b[0mprint\u001b[0m\u001b[1;33m(\u001b[0m\u001b[0mstr1\u001b[0m \u001b[1;33m+\u001b[0m \u001b[1;34m\" \"\u001b[0m \u001b[1;33m+\u001b[0m \u001b[1;36m10.10\u001b[0m\u001b[1;33m)\u001b[0m\u001b[1;33m\u001b[0m\u001b[1;33m\u001b[0m\u001b[0m\n\u001b[0m",
      "\u001b[1;31mTypeError\u001b[0m: can only concatenate str (not \"float\") to str"
     ]
    }
   ],
   "source": [
    "#Error: TypeError: can only concatenate str (not \"float\") to str\n",
    "print(str1 + \" \" + 10.10)"
   ]
  },
  {
   "cell_type": "code",
   "execution_count": 154,
   "metadata": {},
   "outputs": [
    {
     "name": "stdout",
     "output_type": "stream",
     "text": [
      "LearnbayLearnbayLearnbay\n"
     ]
    }
   ],
   "source": [
    "#Output is: LearnbayLearnbayLearnbay\n",
    "print(str1*3)"
   ]
  },
  {
   "cell_type": "code",
   "execution_count": 156,
   "metadata": {},
   "outputs": [
    {
     "ename": "TypeError",
     "evalue": "can't multiply sequence by non-int of type 'float'",
     "output_type": "error",
     "traceback": [
      "\u001b[1;31m---------------------------------------------------------------------------\u001b[0m",
      "\u001b[1;31mTypeError\u001b[0m                                 Traceback (most recent call last)",
      "\u001b[1;32m<ipython-input-156-b9b79c95f5bb>\u001b[0m in \u001b[0;36m<module>\u001b[1;34m\u001b[0m\n\u001b[0;32m      1\u001b[0m \u001b[1;31m#Error: TypeError: can't multiply sequence by non-int of type 'float'\u001b[0m\u001b[1;33m\u001b[0m\u001b[1;33m\u001b[0m\u001b[1;33m\u001b[0m\u001b[0m\n\u001b[1;32m----> 2\u001b[1;33m \u001b[0mprint\u001b[0m\u001b[1;33m(\u001b[0m\u001b[0mstr1\u001b[0m\u001b[1;33m*\u001b[0m\u001b[1;36m3.10\u001b[0m\u001b[1;33m)\u001b[0m\u001b[1;33m\u001b[0m\u001b[1;33m\u001b[0m\u001b[0m\n\u001b[0m",
      "\u001b[1;31mTypeError\u001b[0m: can't multiply sequence by non-int of type 'float'"
     ]
    }
   ],
   "source": [
    "#Error: TypeError: can't multiply sequence by non-int of type 'float'\n",
    "print(str1*3.10)"
   ]
  },
  {
   "cell_type": "code",
   "execution_count": 3,
   "metadata": {},
   "outputs": [
    {
     "ename": "NameError",
     "evalue": "name 'str1' is not defined",
     "output_type": "error",
     "traceback": [
      "\u001b[1;31m---------------------------------------------------------------------------\u001b[0m",
      "\u001b[1;31mNameError\u001b[0m                                 Traceback (most recent call last)",
      "\u001b[1;32m<ipython-input-3-425d55a4a195>\u001b[0m in \u001b[0;36m<module>\u001b[1;34m\u001b[0m\n\u001b[0;32m      1\u001b[0m \u001b[1;31m#Error: TypeError: can't multiply sequence by non-int of type 'str'\u001b[0m\u001b[1;33m\u001b[0m\u001b[1;33m\u001b[0m\u001b[1;33m\u001b[0m\u001b[0m\n\u001b[1;32m----> 2\u001b[1;33m \u001b[0mprint\u001b[0m\u001b[1;33m(\u001b[0m\u001b[0mstr1\u001b[0m\u001b[1;33m*\u001b[0m\u001b[1;34m'ABC'\u001b[0m\u001b[1;33m)\u001b[0m\u001b[1;33m\u001b[0m\u001b[1;33m\u001b[0m\u001b[0m\n\u001b[0m",
      "\u001b[1;31mNameError\u001b[0m: name 'str1' is not defined"
     ]
    }
   ],
   "source": [
    "#Error: TypeError: can't multiply sequence by non-int of type 'str'\n",
    "print(str1*'ABC')"
   ]
  },
  {
   "cell_type": "code",
   "execution_count": null,
   "metadata": {},
   "outputs": [],
   "source": [
    "######################################################################"
   ]
  },
  {
   "cell_type": "code",
   "execution_count": 158,
   "metadata": {
    "id": "gREffmnr3s-p"
   },
   "outputs": [],
   "source": [
    "# Q8\n",
    "# #Find below Output\n",
    "# str1 = 'Python'\n",
    "# str2 = 'Python'\n",
    "# str3 = 'Python$'\n",
    "# str4 = 'Python$'\n",
    "\n",
    "# #print True by using identity operator between str1 and str2\n",
    "\n",
    "# #print False by using identity operator between str1 and str3\n",
    "\n",
    "# #print False by using identity operator between str4 and str3\n",
    "\n",
    "# #Check if P is available in str1 and print True by using membership operator\n",
    "\n",
    "# #Check if $ is available in str3 and print True by using membership operator\n",
    "\n",
    "# #Check if N is available in str3 and print False by using membership operator"
   ]
  },
  {
   "cell_type": "code",
   "execution_count": 5,
   "metadata": {},
   "outputs": [],
   "source": [
    "# REPLY Q8\n",
    "str1 = 'Python'\n",
    "str2 = 'Python'\n",
    "str3 = 'Python$'\n",
    "str4 = 'Python$'"
   ]
  },
  {
   "cell_type": "code",
   "execution_count": 6,
   "metadata": {},
   "outputs": [
    {
     "name": "stdout",
     "output_type": "stream",
     "text": [
      "True\n"
     ]
    }
   ],
   "source": [
    "#print True by using identity operator between str1 and str2\n",
    "print(id(str1) == id(str2))"
   ]
  },
  {
   "cell_type": "code",
   "execution_count": 7,
   "metadata": {},
   "outputs": [
    {
     "name": "stdout",
     "output_type": "stream",
     "text": [
      "False\n"
     ]
    }
   ],
   "source": [
    "#print False by using identity operator between str1 and str3\n",
    "print(id(str1) == id(str3))"
   ]
  },
  {
   "cell_type": "code",
   "execution_count": 8,
   "metadata": {},
   "outputs": [
    {
     "name": "stdout",
     "output_type": "stream",
     "text": [
      "False\n"
     ]
    }
   ],
   "source": [
    "#print False by using identity operator between str4 and str3\n",
    "print(id(str4) == id(str3))"
   ]
  },
  {
   "cell_type": "code",
   "execution_count": 9,
   "metadata": {},
   "outputs": [
    {
     "name": "stdout",
     "output_type": "stream",
     "text": [
      "True\n"
     ]
    }
   ],
   "source": [
    "#Check if P is available in str1 and print True by using membership operator\n",
    "print('P' in str1)"
   ]
  },
  {
   "cell_type": "code",
   "execution_count": 10,
   "metadata": {},
   "outputs": [
    {
     "name": "stdout",
     "output_type": "stream",
     "text": [
      "True\n"
     ]
    }
   ],
   "source": [
    "#Check if $ is available in str3 and print True by using membership operator\n",
    "print('$' in str3)"
   ]
  },
  {
   "cell_type": "code",
   "execution_count": 11,
   "metadata": {},
   "outputs": [
    {
     "name": "stdout",
     "output_type": "stream",
     "text": [
      "False\n"
     ]
    }
   ],
   "source": [
    "#Check if N is available in str3 and print False by using membership operator\n",
    "print('N' in str3)"
   ]
  },
  {
   "cell_type": "code",
   "execution_count": null,
   "metadata": {},
   "outputs": [],
   "source": [
    "#################################################################################################"
   ]
  },
  {
   "cell_type": "code",
   "execution_count": 171,
   "metadata": {
    "id": "QNFjxDr73u2H"
   },
   "outputs": [],
   "source": [
    "# Q9\n",
    "# #Complete the below code\n",
    "# str1 = 'This is Python class'\n",
    "# #write the code to replace 'Python' with 'Java' and you should get below error.\n",
    "# #TypeError: 'str' object does not support item assignment."
   ]
  },
  {
   "cell_type": "code",
   "execution_count": 178,
   "metadata": {},
   "outputs": [
    {
     "name": "stdout",
     "output_type": "stream",
     "text": [
      "This is Java class\n"
     ]
    },
    {
     "ename": "TypeError",
     "evalue": "'str' object does not support item assignment",
     "output_type": "error",
     "traceback": [
      "\u001b[1;31m---------------------------------------------------------------------------\u001b[0m",
      "\u001b[1;31mTypeError\u001b[0m                                 Traceback (most recent call last)",
      "\u001b[1;32m<ipython-input-178-1dfe44ebbca9>\u001b[0m in \u001b[0;36m<module>\u001b[1;34m\u001b[0m\n\u001b[0;32m      2\u001b[0m \u001b[0mstr1\u001b[0m \u001b[1;33m=\u001b[0m \u001b[1;34m'This is Python class'\u001b[0m\u001b[1;33m\u001b[0m\u001b[1;33m\u001b[0m\u001b[0m\n\u001b[0;32m      3\u001b[0m \u001b[0mprint\u001b[0m\u001b[1;33m(\u001b[0m\u001b[0mstr1\u001b[0m\u001b[1;33m.\u001b[0m\u001b[0mreplace\u001b[0m\u001b[1;33m(\u001b[0m\u001b[1;34m'Python'\u001b[0m\u001b[1;33m,\u001b[0m \u001b[1;34m'Java'\u001b[0m\u001b[1;33m)\u001b[0m\u001b[1;33m)\u001b[0m\u001b[1;33m\u001b[0m\u001b[1;33m\u001b[0m\u001b[0m\n\u001b[1;32m----> 4\u001b[1;33m \u001b[0mstr1\u001b[0m\u001b[1;33m[\u001b[0m\u001b[1;36m1\u001b[0m\u001b[1;33m]\u001b[0m \u001b[1;33m=\u001b[0m \u001b[1;36m10\u001b[0m\u001b[1;33m\u001b[0m\u001b[1;33m\u001b[0m\u001b[0m\n\u001b[0m",
      "\u001b[1;31mTypeError\u001b[0m: 'str' object does not support item assignment"
     ]
    }
   ],
   "source": [
    "## REPLY Q9\n",
    "str1 = 'This is Python class'\n",
    "print(str1.replace('Python', 'Java'))\n",
    "str1[1] = 10 \n"
   ]
  },
  {
   "cell_type": "code",
   "execution_count": null,
   "metadata": {},
   "outputs": [],
   "source": [
    "##############################################################"
   ]
  },
  {
   "cell_type": "code",
   "execution_count": 179,
   "metadata": {
    "id": "-JgFbPmn3w3D"
   },
   "outputs": [],
   "source": [
    "#Q10\n",
    "# str1 = 'A'\n",
    "# str2 = 'A'\n",
    "# #Compare str1 and str2 and print True using comparison operator\n",
    "\n",
    "# #Compare str1 and str2 and print True using equality operator\n",
    "\n",
    "# #Compare str1 and str2 and print False using equality operator\n",
    "\n",
    "# #Compare str1 and str2 and print False using comparison operator"
   ]
  },
  {
   "cell_type": "code",
   "execution_count": 180,
   "metadata": {},
   "outputs": [],
   "source": [
    "##REPLY Q10\n",
    "str1 = 'A'\n",
    "str2 = 'A'"
   ]
  },
  {
   "cell_type": "code",
   "execution_count": 204,
   "metadata": {},
   "outputs": [
    {
     "name": "stdout",
     "output_type": "stream",
     "text": [
      "True\n"
     ]
    }
   ],
   "source": [
    "#Compare str1 and str2 and print True using comparison operator\n",
    "print(str1 >= str2)"
   ]
  },
  {
   "cell_type": "code",
   "execution_count": 185,
   "metadata": {},
   "outputs": [
    {
     "name": "stdout",
     "output_type": "stream",
     "text": [
      "True\n"
     ]
    }
   ],
   "source": [
    "#Compare str1 and str2 and print True using equality operator\n",
    "print(str1 == str2)"
   ]
  },
  {
   "cell_type": "code",
   "execution_count": 187,
   "metadata": {},
   "outputs": [
    {
     "name": "stdout",
     "output_type": "stream",
     "text": [
      "False\n"
     ]
    }
   ],
   "source": [
    "#Compare str1 and str2 and print False using equality operator\n",
    "print(str1 != str2)"
   ]
  },
  {
   "cell_type": "code",
   "execution_count": 205,
   "metadata": {},
   "outputs": [
    {
     "name": "stdout",
     "output_type": "stream",
     "text": [
      "False\n"
     ]
    }
   ],
   "source": [
    "#Compare str1 and str2 and print False using comparison operator\n",
    "print(str1 <= str2)"
   ]
  },
  {
   "cell_type": "code",
   "execution_count": null,
   "metadata": {},
   "outputs": [],
   "source": [
    "###########################################################################"
   ]
  },
  {
   "cell_type": "code",
   "execution_count": 190,
   "metadata": {
    "id": "fJ46_L-53yhW"
   },
   "outputs": [],
   "source": [
    "# Q11\n",
    "# str1 = 'A'\n",
    "# str2 = 'a'\n",
    "# #Compare str1 and str2 and print True using comparison operator\n",
    "\n",
    "# #Compare str1 and str2 and print True using equality operator\n",
    "\n",
    "# #Compare str1 and str2 and print False using equality operator\n",
    "\n",
    "# #Compare str1 and str2 and print False using comparison operator"
   ]
  },
  {
   "cell_type": "code",
   "execution_count": 191,
   "metadata": {},
   "outputs": [],
   "source": [
    "# REPLAY Q11\n",
    "str1 = 'A'\n",
    "str2 = 'a'\n"
   ]
  },
  {
   "cell_type": "code",
   "execution_count": 206,
   "metadata": {},
   "outputs": [
    {
     "name": "stdout",
     "output_type": "stream",
     "text": [
      "True\n"
     ]
    }
   ],
   "source": [
    "#Compare str1 and str2 and print True using comparison operator\n",
    "print(str1 >= str2)"
   ]
  },
  {
   "cell_type": "code",
   "execution_count": 195,
   "metadata": {},
   "outputs": [
    {
     "name": "stdout",
     "output_type": "stream",
     "text": [
      "True\n"
     ]
    }
   ],
   "source": [
    "#Compare str1 and str2 and print True using equality operator\n",
    "print(str1 == str2)"
   ]
  },
  {
   "cell_type": "code",
   "execution_count": 196,
   "metadata": {},
   "outputs": [
    {
     "name": "stdout",
     "output_type": "stream",
     "text": [
      "False\n"
     ]
    }
   ],
   "source": [
    "#Compare str1 and str2 and print False using equality operator\n",
    "print(str1 != str2)"
   ]
  },
  {
   "cell_type": "code",
   "execution_count": 207,
   "metadata": {},
   "outputs": [
    {
     "name": "stdout",
     "output_type": "stream",
     "text": [
      "False\n"
     ]
    }
   ],
   "source": [
    "#Compare str1 and str2 and print False using comparison operator\n",
    "print(str1 <= str2)"
   ]
  },
  {
   "cell_type": "code",
   "execution_count": null,
   "metadata": {},
   "outputs": [],
   "source": [
    "##############################################################################"
   ]
  },
  {
   "cell_type": "code",
   "execution_count": null,
   "metadata": {},
   "outputs": [],
   "source": [
    "# Q12\n",
    "# str1 = 'A'\n",
    "# str2 = '65'\n",
    "# #Compare str1 and str2 using comparison operator and it should give below error.\n",
    "# #Error: TypeError: '>=' not supported between instances of 'str' and 'int'\n",
    "\n",
    "# #Compare str1 and str2 and print True using equality operator\n",
    "\n",
    "# #Compare str1 and str2 and print False using equality operator"
   ]
  },
  {
   "cell_type": "code",
   "execution_count": 198,
   "metadata": {
    "id": "e-Lr9va330gi"
   },
   "outputs": [],
   "source": [
    "# REPLY Q12\n",
    "str1 = 'A'\n",
    "str2 = '65'"
   ]
  },
  {
   "cell_type": "code",
   "execution_count": 208,
   "metadata": {},
   "outputs": [
    {
     "ename": "TypeError",
     "evalue": "'>=' not supported between instances of 'str' and 'int'",
     "output_type": "error",
     "traceback": [
      "\u001b[1;31m---------------------------------------------------------------------------\u001b[0m",
      "\u001b[1;31mTypeError\u001b[0m                                 Traceback (most recent call last)",
      "\u001b[1;32m<ipython-input-208-41e61bdf7177>\u001b[0m in \u001b[0;36m<module>\u001b[1;34m\u001b[0m\n\u001b[0;32m      1\u001b[0m \u001b[1;31m#Compare str1 and str2 using comparison operator and it should give below error.\u001b[0m\u001b[1;33m\u001b[0m\u001b[1;33m\u001b[0m\u001b[1;33m\u001b[0m\u001b[0m\n\u001b[0;32m      2\u001b[0m \u001b[1;31m#Error: TypeError: '>=' not supported between instances of 'str' and 'int'\u001b[0m\u001b[1;33m\u001b[0m\u001b[1;33m\u001b[0m\u001b[1;33m\u001b[0m\u001b[0m\n\u001b[1;32m----> 3\u001b[1;33m \u001b[0mprint\u001b[0m\u001b[1;33m(\u001b[0m\u001b[0mstr1\u001b[0m \u001b[1;33m>=\u001b[0m \u001b[0mint\u001b[0m\u001b[1;33m(\u001b[0m\u001b[0mstr2\u001b[0m\u001b[1;33m)\u001b[0m\u001b[1;33m)\u001b[0m\u001b[1;33m\u001b[0m\u001b[1;33m\u001b[0m\u001b[0m\n\u001b[0m",
      "\u001b[1;31mTypeError\u001b[0m: '>=' not supported between instances of 'str' and 'int'"
     ]
    }
   ],
   "source": [
    "#Compare str1 and str2 using comparison operator and it should give below error.\n",
    "#Error: TypeError: '>=' not supported between instances of 'str' and 'int'\n",
    "print(str1 >= int(str2))"
   ]
  },
  {
   "cell_type": "code",
   "execution_count": 210,
   "metadata": {},
   "outputs": [
    {
     "name": "stdout",
     "output_type": "stream",
     "text": [
      "True\n"
     ]
    }
   ],
   "source": [
    "#Compare str1 and str2 and print True using equality operator\n",
    "print(str1 != str2)"
   ]
  },
  {
   "cell_type": "code",
   "execution_count": 212,
   "metadata": {},
   "outputs": [
    {
     "name": "stdout",
     "output_type": "stream",
     "text": [
      "False\n"
     ]
    }
   ],
   "source": [
    "#Compare str1 and str2 and print False using equality operator\n",
    "print(str1 == str2)"
   ]
  },
  {
   "cell_type": "code",
   "execution_count": null,
   "metadata": {},
   "outputs": [],
   "source": [
    "#######################################################################"
   ]
  },
  {
   "cell_type": "code",
   "execution_count": null,
   "metadata": {},
   "outputs": [],
   "source": [
    "# Q13\n",
    "# str1 = 'Python'\n",
    "# str2 = 'Python'\n",
    "# #Compare str1 and str2 and print True using comparison operator\n",
    "\n",
    "# #Compare str1 and str2 and print True using equality operator\n",
    "\n",
    "# #Compare str1 and str2 and print False using equality operator\n",
    "\n",
    "# #Compare str1 and str2 and print False using comparison operator"
   ]
  },
  {
   "cell_type": "code",
   "execution_count": 213,
   "metadata": {
    "id": "JO04jmpN32Im"
   },
   "outputs": [],
   "source": [
    "#REPLY Q13\n",
    "str1 = 'Python'\n",
    "str2 = 'Python'"
   ]
  },
  {
   "cell_type": "code",
   "execution_count": 215,
   "metadata": {},
   "outputs": [
    {
     "name": "stdout",
     "output_type": "stream",
     "text": [
      "True\n"
     ]
    }
   ],
   "source": [
    "#Compare str1 and str2 and print True using comparison operator\n",
    "print(str1 >= str2)"
   ]
  },
  {
   "cell_type": "code",
   "execution_count": 217,
   "metadata": {},
   "outputs": [
    {
     "name": "stdout",
     "output_type": "stream",
     "text": [
      "True\n"
     ]
    }
   ],
   "source": [
    "#Compare str1 and str2 and print True using equality operator\n",
    "print(str1 == str2)"
   ]
  },
  {
   "cell_type": "code",
   "execution_count": 220,
   "metadata": {},
   "outputs": [
    {
     "name": "stdout",
     "output_type": "stream",
     "text": [
      "False\n"
     ]
    }
   ],
   "source": [
    "#Compare str1 and str2 and print False using equality operator\n",
    "print(str1 != str2)"
   ]
  },
  {
   "cell_type": "code",
   "execution_count": 227,
   "metadata": {},
   "outputs": [
    {
     "name": "stdout",
     "output_type": "stream",
     "text": [
      "False\n"
     ]
    }
   ],
   "source": [
    "#Compare str1 and str2 and print False using comparison operator\n",
    "print(str1 > str2)"
   ]
  },
  {
   "cell_type": "code",
   "execution_count": null,
   "metadata": {},
   "outputs": [],
   "source": [
    "#######################################################################"
   ]
  },
  {
   "cell_type": "code",
   "execution_count": 229,
   "metadata": {
    "id": "nmVAYYC_35ip"
   },
   "outputs": [],
   "source": [
    "# Q14\n",
    "# str1 = 'Python'\n",
    "# str2 = 'python'\n",
    "# #Compare str1 and str2 and print True using comparison operator\n",
    "\n",
    "# #Compare str1 and str2 and print True using equality operator\n",
    "\n",
    "# #Compare str1 and str2 and print False using equality operator\n",
    "\n",
    "# #Compare str1 and str2 and print False using comparison operator"
   ]
  },
  {
   "cell_type": "code",
   "execution_count": 230,
   "metadata": {},
   "outputs": [],
   "source": [
    "# REPLY Q14\n",
    "str1 = 'Python'\n",
    "str2 = 'python'"
   ]
  },
  {
   "cell_type": "code",
   "execution_count": 232,
   "metadata": {},
   "outputs": [
    {
     "name": "stdout",
     "output_type": "stream",
     "text": [
      "True\n"
     ]
    }
   ],
   "source": [
    "#Compare str1 and str2 and print True using comparison operator\n",
    "print(str1 <= str2)"
   ]
  },
  {
   "cell_type": "code",
   "execution_count": 236,
   "metadata": {},
   "outputs": [
    {
     "name": "stdout",
     "output_type": "stream",
     "text": [
      "True\n"
     ]
    }
   ],
   "source": [
    "#Compare str1 and str2 and print True using equality operator\n",
    "print(str1 != str2)"
   ]
  },
  {
   "cell_type": "code",
   "execution_count": 237,
   "metadata": {},
   "outputs": [
    {
     "name": "stdout",
     "output_type": "stream",
     "text": [
      "False\n"
     ]
    }
   ],
   "source": [
    "#Compare str1 and str2 and print False using equality operator\n",
    "print(str1 == str2)"
   ]
  },
  {
   "cell_type": "code",
   "execution_count": 238,
   "metadata": {},
   "outputs": [
    {
     "name": "stdout",
     "output_type": "stream",
     "text": [
      "False\n"
     ]
    }
   ],
   "source": [
    "#Compare str1 and str2 and print False using comparison operator\n",
    "print(str1 > str2)"
   ]
  },
  {
   "cell_type": "code",
   "execution_count": null,
   "metadata": {},
   "outputs": [],
   "source": [
    "############################################################################"
   ]
  },
  {
   "cell_type": "code",
   "execution_count": null,
   "metadata": {},
   "outputs": [],
   "source": [
    "# Q 15\n",
    "# a = 'Python'\n",
    "# b = ''\n",
    "\n",
    "# #Apply logical opereators (and, or & not) on above string values and observe the output.\n",
    "# print()\n",
    "# print()\n",
    "# print()\n",
    "# print()\n",
    "# print()"
   ]
  },
  {
   "cell_type": "code",
   "execution_count": 241,
   "metadata": {
    "id": "7ulv5ith37OJ"
   },
   "outputs": [],
   "source": [
    "# REPLY 15\n",
    "a = 'Python'\n",
    "b = ''"
   ]
  },
  {
   "cell_type": "code",
   "execution_count": 247,
   "metadata": {},
   "outputs": [
    {
     "name": "stdout",
     "output_type": "stream",
     "text": [
      "\n"
     ]
    }
   ],
   "source": [
    "print(a and b)"
   ]
  },
  {
   "cell_type": "code",
   "execution_count": 248,
   "metadata": {},
   "outputs": [
    {
     "name": "stdout",
     "output_type": "stream",
     "text": [
      "\n"
     ]
    }
   ],
   "source": [
    "print(b and a)"
   ]
  },
  {
   "cell_type": "code",
   "execution_count": 243,
   "metadata": {},
   "outputs": [
    {
     "name": "stdout",
     "output_type": "stream",
     "text": [
      "Python\n"
     ]
    }
   ],
   "source": [
    "print(a or b)"
   ]
  },
  {
   "cell_type": "code",
   "execution_count": 253,
   "metadata": {},
   "outputs": [
    {
     "ename": "SyntaxError",
     "evalue": "invalid syntax (<ipython-input-253-66854a578d22>, line 1)",
     "output_type": "error",
     "traceback": [
      "\u001b[1;36m  File \u001b[1;32m\"<ipython-input-253-66854a578d22>\"\u001b[1;36m, line \u001b[1;32m1\u001b[0m\n\u001b[1;33m    print((a) not (b))\u001b[0m\n\u001b[1;37m                  ^\u001b[0m\n\u001b[1;31mSyntaxError\u001b[0m\u001b[1;31m:\u001b[0m invalid syntax\n"
     ]
    }
   ],
   "source": [
    "print(a not b)"
   ]
  },
  {
   "cell_type": "code",
   "execution_count": 251,
   "metadata": {},
   "outputs": [
    {
     "ename": "SyntaxError",
     "evalue": "invalid syntax (<ipython-input-251-2440f51ca0fe>, line 1)",
     "output_type": "error",
     "traceback": [
      "\u001b[1;36m  File \u001b[1;32m\"<ipython-input-251-2440f51ca0fe>\"\u001b[1;36m, line \u001b[1;32m1\u001b[0m\n\u001b[1;33m    print(b not a)\u001b[0m\n\u001b[1;37m                ^\u001b[0m\n\u001b[1;31mSyntaxError\u001b[0m\u001b[1;31m:\u001b[0m invalid syntax\n"
     ]
    }
   ],
   "source": [
    "print(b not a)"
   ]
  },
  {
   "cell_type": "code",
   "execution_count": null,
   "metadata": {},
   "outputs": [],
   "source": [
    "############################################################"
   ]
  },
  {
   "cell_type": "code",
   "execution_count": 255,
   "metadata": {
    "id": "Yg_gsZBL383n"
   },
   "outputs": [],
   "source": [
    "# Q16\n",
    "# a = ''\n",
    "# b = ''\n",
    "\n",
    "# #Apply logical opereators (and, or & not) on above string values and observe the output.\n",
    "# print()\n",
    "# print()\n",
    "# print()"
   ]
  },
  {
   "cell_type": "code",
   "execution_count": 257,
   "metadata": {},
   "outputs": [],
   "source": [
    "# REPLY Q16\n",
    "a = ''\n",
    "b = ''"
   ]
  },
  {
   "cell_type": "code",
   "execution_count": 258,
   "metadata": {},
   "outputs": [
    {
     "name": "stdout",
     "output_type": "stream",
     "text": [
      "\n"
     ]
    }
   ],
   "source": [
    "print(a and b)"
   ]
  },
  {
   "cell_type": "code",
   "execution_count": 260,
   "metadata": {},
   "outputs": [
    {
     "name": "stdout",
     "output_type": "stream",
     "text": [
      "\n"
     ]
    }
   ],
   "source": [
    "print(a or b)"
   ]
  },
  {
   "cell_type": "code",
   "execution_count": 12,
   "metadata": {},
   "outputs": [
    {
     "ename": "SyntaxError",
     "evalue": "invalid syntax (<ipython-input-12-d2d4f0dac98a>, line 1)",
     "output_type": "error",
     "traceback": [
      "\u001b[1;36m  File \u001b[1;32m\"<ipython-input-12-d2d4f0dac98a>\"\u001b[1;36m, line \u001b[1;32m1\u001b[0m\n\u001b[1;33m    print(a not b)\u001b[0m\n\u001b[1;37m                ^\u001b[0m\n\u001b[1;31mSyntaxError\u001b[0m\u001b[1;31m:\u001b[0m invalid syntax\n"
     ]
    }
   ],
   "source": [
    "print(a not b)"
   ]
  },
  {
   "cell_type": "code",
   "execution_count": null,
   "metadata": {},
   "outputs": [],
   "source": [
    "#############################################################################"
   ]
  },
  {
   "cell_type": "code",
   "execution_count": null,
   "metadata": {},
   "outputs": [],
   "source": [
    "# Q17\n",
    "# a = 'Python'\n",
    "# b = 'learnbay'\n",
    "\n",
    "# #Apply logical opereators (and, or & not) on above string values and observe the output.\n",
    "# print()\n",
    "# print()\n",
    "# print()"
   ]
  },
  {
   "cell_type": "code",
   "execution_count": 264,
   "metadata": {
    "id": "cIWkP9Hf3-q5"
   },
   "outputs": [],
   "source": [
    "# REPLY 17\n",
    "a = 'Python'\n",
    "b = 'learnbay'"
   ]
  },
  {
   "cell_type": "code",
   "execution_count": 265,
   "metadata": {},
   "outputs": [
    {
     "name": "stdout",
     "output_type": "stream",
     "text": [
      "learnbay\n"
     ]
    }
   ],
   "source": [
    "print(a and b)"
   ]
  },
  {
   "cell_type": "code",
   "execution_count": 266,
   "metadata": {},
   "outputs": [
    {
     "name": "stdout",
     "output_type": "stream",
     "text": [
      "Python\n"
     ]
    }
   ],
   "source": [
    "print(a or b)"
   ]
  },
  {
   "cell_type": "code",
   "execution_count": 269,
   "metadata": {},
   "outputs": [
    {
     "ename": "SyntaxError",
     "evalue": "invalid syntax (<ipython-input-269-d2d4f0dac98a>, line 1)",
     "output_type": "error",
     "traceback": [
      "\u001b[1;36m  File \u001b[1;32m\"<ipython-input-269-d2d4f0dac98a>\"\u001b[1;36m, line \u001b[1;32m1\u001b[0m\n\u001b[1;33m    print(a not b)\u001b[0m\n\u001b[1;37m                ^\u001b[0m\n\u001b[1;31mSyntaxError\u001b[0m\u001b[1;31m:\u001b[0m invalid syntax\n"
     ]
    }
   ],
   "source": [
    "print(a not b)"
   ]
  },
  {
   "cell_type": "code",
   "execution_count": null,
   "metadata": {},
   "outputs": [],
   "source": [
    "##################################################################################"
   ]
  },
  {
   "cell_type": "code",
   "execution_count": null,
   "metadata": {},
   "outputs": [],
   "source": [
    "# Q18\n",
    "# my_str = \"Although 8 that way may not be obvious at first unless you're Dutch\"\n",
    "\n",
    "# #Write the code to get the total count of 't' in above string. Use find() and index() method.\n",
    "# print()\n",
    "# print()\n",
    "\n",
    "# #Write the code to get the index of '8' in my_str. Use find() and index() method.\n",
    "# print()\n",
    "# print()\n",
    "\n",
    "# #What will be the output of below code?\n",
    "# print(my_str.find('the'))\n",
    "\n",
    "\n",
    "# print(my_str.index('the'))\n",
    "\n",
    "\n",
    "# print(my_str.find('t', 9, 15))\n",
    "\n",
    "\n",
    "# print(my_str.rfind('u'))\n",
    "\n",
    "\n",
    "# print(my_str.rindex('u'))\n"
   ]
  },
  {
   "cell_type": "code",
   "execution_count": 283,
   "metadata": {
    "id": "Y0Ot_E704AX5"
   },
   "outputs": [
    {
     "name": "stdout",
     "output_type": "stream",
     "text": [
      "7\n",
      "2\n",
      "2\n",
      "7\n"
     ]
    }
   ],
   "source": [
    "# REPLY Q18\n",
    "my_str = \"Although 8 that way may not be obvious at first unless you're Dutch\"\n",
    "\n",
    "#Write the code to get the total count of 't' in above string. Use find() and index() method.\n",
    "print(my_str.count('t'))\n",
    "print(my_str.find('t'))\n",
    "print(my_str.index('t'))\n",
    "count = 0\n",
    "for index, i in enumerate(my_str):\n",
    "    if i == \"t\":\n",
    "        count += 1\n",
    "print(count)\n",
    "\n",
    "    "
   ]
  },
  {
   "cell_type": "code",
   "execution_count": 285,
   "metadata": {},
   "outputs": [
    {
     "name": "stdout",
     "output_type": "stream",
     "text": [
      "9\n",
      "9\n"
     ]
    }
   ],
   "source": [
    "#Write the code to get the index of '8' in my_str. Use find() and index() method.\n",
    "print(my_str.find('8'))\n",
    "print(my_str.index('8'))"
   ]
  },
  {
   "cell_type": "code",
   "execution_count": 287,
   "metadata": {},
   "outputs": [
    {
     "name": "stdout",
     "output_type": "stream",
     "text": [
      "-1\n"
     ]
    }
   ],
   "source": [
    "#What will be the output of below code?\n",
    "print(my_str.find('the')) ## Error - Need to know how -1 is generated"
   ]
  },
  {
   "cell_type": "code",
   "execution_count": 288,
   "metadata": {},
   "outputs": [
    {
     "ename": "ValueError",
     "evalue": "substring not found",
     "output_type": "error",
     "traceback": [
      "\u001b[1;31m---------------------------------------------------------------------------\u001b[0m",
      "\u001b[1;31mValueError\u001b[0m                                Traceback (most recent call last)",
      "\u001b[1;32m<ipython-input-288-0b5bd207cfd4>\u001b[0m in \u001b[0;36m<module>\u001b[1;34m\u001b[0m\n\u001b[1;32m----> 1\u001b[1;33m \u001b[0mprint\u001b[0m\u001b[1;33m(\u001b[0m\u001b[0mmy_str\u001b[0m\u001b[1;33m.\u001b[0m\u001b[0mindex\u001b[0m\u001b[1;33m(\u001b[0m\u001b[1;34m'the'\u001b[0m\u001b[1;33m)\u001b[0m\u001b[1;33m)\u001b[0m\u001b[1;33m\u001b[0m\u001b[1;33m\u001b[0m\u001b[0m\n\u001b[0m",
      "\u001b[1;31mValueError\u001b[0m: substring not found"
     ]
    }
   ],
   "source": [
    "print(my_str.index('the')) ## Error"
   ]
  },
  {
   "cell_type": "code",
   "execution_count": 290,
   "metadata": {},
   "outputs": [
    {
     "name": "stdout",
     "output_type": "stream",
     "text": [
      "11\n"
     ]
    }
   ],
   "source": [
    "print(my_str.find('t', 9, 15)) ## 11"
   ]
  },
  {
   "cell_type": "code",
   "execution_count": 294,
   "metadata": {},
   "outputs": [
    {
     "name": "stdout",
     "output_type": "stream",
     "text": [
      "63\n"
     ]
    }
   ],
   "source": [
    "#for index, i in enumerate(my_str):\n",
    "#    print (index, i)\n",
    "## To Check index number\n",
    "print(my_str.rfind('u')) ## 63"
   ]
  },
  {
   "cell_type": "code",
   "execution_count": 292,
   "metadata": {},
   "outputs": [
    {
     "name": "stdout",
     "output_type": "stream",
     "text": [
      "63\n"
     ]
    }
   ],
   "source": [
    "print(my_str.rindex('u')) ##63"
   ]
  },
  {
   "cell_type": "code",
   "execution_count": null,
   "metadata": {},
   "outputs": [],
   "source": [
    "##############################################################################"
   ]
  },
  {
   "cell_type": "code",
   "execution_count": 2,
   "metadata": {
    "id": "Gommq59Q4CMi"
   },
   "outputs": [],
   "source": [
    "# Q19\n",
    "#W A P which applies strip() method if any string, which will be taken from user, starts and ends with space, or applies \n",
    "#rrstrip() method if that string only ends with space or applies lstrip() method if that string only starts with a space.\n",
    "\n",
    "#For example:-\n",
    "#input:- '    Python   '\n",
    "#output:- 'Python'\n",
    "\n",
    "#input:- '    Python'\n",
    "#output:- 'Python'\n",
    "\n",
    "#input:- 'Python   '\n",
    "#output:- 'Python'"
   ]
  },
  {
   "cell_type": "code",
   "execution_count": 12,
   "metadata": {},
   "outputs": [
    {
     "name": "stdout",
     "output_type": "stream",
     "text": [
      "Python\n"
     ]
    }
   ],
   "source": [
    "## REOLY Q19\n",
    "\n",
    "i = '    Python   '\n",
    "out = i.rstrip()\n",
    "out = out.lstrip()\n",
    "print(out)"
   ]
  },
  {
   "cell_type": "code",
   "execution_count": 16,
   "metadata": {},
   "outputs": [
    {
     "name": "stdout",
     "output_type": "stream",
     "text": [
      "Python\n"
     ]
    }
   ],
   "source": [
    "i = 'Python   '\n",
    "out = out.rstrip()\n",
    "print(out)"
   ]
  },
  {
   "cell_type": "code",
   "execution_count": 17,
   "metadata": {},
   "outputs": [
    {
     "name": "stdout",
     "output_type": "stream",
     "text": [
      "Python\n"
     ]
    }
   ],
   "source": [
    "i = '    Python'\n",
    "out = i.lstrip()\n",
    "print(out)"
   ]
  },
  {
   "cell_type": "code",
   "execution_count": null,
   "metadata": {},
   "outputs": [],
   "source": [
    "###########################################################################"
   ]
  },
  {
   "cell_type": "code",
   "execution_count": 19,
   "metadata": {
    "id": "9IUy-cpS4Dtt"
   },
   "outputs": [],
   "source": [
    "## Q20\n",
    "\n",
    "# my_str = \"Although 8 that way may not be obvious at first unless you're Dutch\"\n",
    "\n",
    "# #Write the code to convert all alphabets in my_str into upper case.\n",
    "# print()\n",
    "\n",
    "# #Write the code to convert all alphabets in my_str into lower case.\n",
    "# print()\n",
    "\n",
    "# #Write the code to swap the cases of all alphabets in my_str.(lower to upper and upper to lower)\n",
    "# print()\n",
    "\n"
   ]
  },
  {
   "cell_type": "code",
   "execution_count": 23,
   "metadata": {},
   "outputs": [
    {
     "name": "stdout",
     "output_type": "stream",
     "text": [
      "ALTHOUGH 8 THAT WAY MAY NOT BE OBVIOUS AT FIRST UNLESS YOU'RE DUTCH\n",
      "although 8 that way may not be obvious at first unless you're dutch\n",
      "aLTHOUGH 8 THAT WAY MAY NOT BE OBVIOUS AT FIRST UNLESS YOU'RE dUTCH\n"
     ]
    }
   ],
   "source": [
    "## REPLY 21\n",
    "my_str = \"Although 8 that way may not be obvious at first unless you're Dutch\"\n",
    "\n",
    "# #Write the code to convert all alphabets in my_str into upper case.\n",
    "\n",
    "i = my_str.upper()\n",
    "print(i)\n",
    "\n",
    "# #Write the code to convert all alphabets in my_str into lower case.\n",
    "i = my_str.lower()\n",
    "print(i)\n",
    "\n",
    "# #Write the code to swap the cases of all alphabets in my_str.(lower to upper and upper to lower)\n",
    "i = my_str.swapcase()\n",
    "print(i)\n"
   ]
  },
  {
   "cell_type": "code",
   "execution_count": null,
   "metadata": {},
   "outputs": [],
   "source": [
    "###################################################################################"
   ]
  },
  {
   "cell_type": "code",
   "execution_count": 24,
   "metadata": {
    "id": "-BjS-z674HKW"
   },
   "outputs": [],
   "source": [
    "## Q22\n",
    "#Write the code which takes one string from user and if it starts with small case letter \n",
    "#then convert it to corresponding \n",
    "#capital letter otherwise if starts with capital letters then convert first character of \n",
    "#every word in that string into capital."
   ]
  },
  {
   "cell_type": "code",
   "execution_count": 66,
   "metadata": {},
   "outputs": [
    {
     "name": "stdout",
     "output_type": "stream",
     "text": [
      "Enter sting input: My name is jayesh rawal\n",
      "My Name Is Jayesh Rawal\n"
     ]
    }
   ],
   "source": [
    "## REPLY Q22\n",
    "i = str(input(\"Enter sting input: \"))\n",
    "if i[0] == i[0].upper():\n",
    "    print(i.title())\n",
    "else:\n",
    "    i = i.capitalize()\n",
    "    print(i)"
   ]
  },
  {
   "cell_type": "code",
   "execution_count": null,
   "metadata": {},
   "outputs": [],
   "source": [
    "################################################################################"
   ]
  },
  {
   "cell_type": "code",
   "execution_count": 68,
   "metadata": {
    "id": "-MCuDy5J4JQS"
   },
   "outputs": [],
   "source": [
    "## Q23\n",
    "#Take a string from user and check if it is:-\n",
    "#     1. alphanumeric\n",
    "#     2. alphabets\n",
    "#     3. digit\n",
    "#     4. all letters are in lower case\n",
    "#     5. all letters are in upper case\n",
    "#     6. in title case\n",
    "#     7. a space character\n",
    "#     8. numeric\n",
    "#     9. all number elements in string are decimal"
   ]
  },
  {
   "cell_type": "code",
   "execution_count": 102,
   "metadata": {},
   "outputs": [
    {
     "name": "stdout",
     "output_type": "stream",
     "text": [
      "Enter string input: vbshvfgbsdjkvfbkanbwd kjazgbfkjhabfk \n",
      "4. all letters are in lower case\n"
     ]
    }
   ],
   "source": [
    "## REPLY Q23\n",
    "#Take a string from user and check if it is:-\n",
    "i = str(input(\"Enter string input: \"))\n",
    "if i.isalnum() == True:\n",
    "    print('1. all value are alphanumeric')\n",
    "if i.isalpha() == True:\n",
    "    print('2. all value are alphabets')\n",
    "if i.isdigit() == True:\n",
    "    print('3. all value are digit')\n",
    "if i.islower() == True:\n",
    "    print('4. all letters are in lower case')\n",
    "if i.isupper() == True:\n",
    "    print('5. all letters are in upper case')\n",
    "if i.istitle() == True:\n",
    "    print('6. in title case')\n",
    "if i.isspace() == True:\n",
    "    print('7. a space character')\n",
    "if i.isnumeric() == True:\n",
    "    print('8. is numeric')\n",
    "if i.isdecimal() == True:\n",
    "    print('9. all number elements in string are decimal')\n",
    "#     1. alphanumeric\n",
    "#     2. alphabets\n",
    "#     3. digit\n",
    "#     4. all letters are in lower case\n",
    "#     5. all letters are in upper case\n",
    "#     6. in title case\n",
    "#     7. a space character\n",
    "#     8. numeric\n",
    "#     9. all number elements in string are decimal"
   ]
  },
  {
   "cell_type": "code",
   "execution_count": null,
   "metadata": {},
   "outputs": [],
   "source": [
    "##################################################"
   ]
  },
  {
   "cell_type": "code",
   "execution_count": 101,
   "metadata": {
    "id": "tiTN-4ik4KAG"
   },
   "outputs": [],
   "source": [
    "## Q24\n",
    "#W A P which takes a string as an input and prints True if the string is valid identifier else returns False.\n",
    "#Sample Input:- 'abc', 'abc1', 'ab1c', '1abc', 'abc$', '_abc', 'if'\n"
   ]
  },
  {
   "cell_type": "code",
   "execution_count": null,
   "metadata": {},
   "outputs": [],
   "source": [
    "## Reply 24\n",
    "i = str(input(\"Enter string input: \"))"
   ]
  },
  {
   "cell_type": "code",
   "execution_count": null,
   "metadata": {
    "id": "tAMkSIN84MPe"
   },
   "outputs": [],
   "source": [
    "#What will be output of below code?\n",
    "s = chr(65) + chr(97)\n",
    "print(s.isprintable())\n",
    "\n",
    "s = chr(27) + chr(97)\n",
    "print(s.isprintable())\n",
    "\n",
    "s = '\\n'\n",
    "print(s.isprintable())\n",
    "\n",
    "s = ''\n",
    "print(s.isprintable())"
   ]
  },
  {
   "cell_type": "code",
   "execution_count": null,
   "metadata": {
    "id": "pU9Os0mD4Pk1"
   },
   "outputs": [],
   "source": [
    "#What will be output of below code?\n",
    "my_string = '  '\n",
    "print(my_string.isascii())\n",
    "\n",
    "my_string = 'Studytonight'\n",
    "print(my_string.isascii())\n",
    "\n",
    "my_string = 'Study tonight'\n",
    "print(my_string.isascii())\n",
    "\n",
    "my_string = 'Studytonight@123'\n",
    "print(my_string.isascii())\n",
    "\n",
    "my_string = '°'\n",
    "print(my_string.isascii())\n",
    "\n",
    "my_string = 'ö'\n",
    "print(my_string.isascii())"
   ]
  },
  {
   "cell_type": "code",
   "execution_count": null,
   "metadata": {
    "id": "VsLV8FF74QTB"
   },
   "outputs": [],
   "source": [
    "#What will be the output of below code?\n",
    "firstString = \"der Fluß\"\n",
    "secondString = \"der Fluss\"\n",
    "\n",
    "if firstString.casefold() == secondString.casefold():\n",
    "    print('The strings are equal.')\n",
    "else:\n",
    "    print('The strings are not equal.')"
   ]
  },
  {
   "cell_type": "code",
   "execution_count": null,
   "metadata": {
    "id": "1m0U7jLa4Wjf"
   },
   "outputs": [],
   "source": [
    "#Write the code to get below output\n",
    "#O/P 1:- python** (using ljust method)\n",
    "\n",
    "\n",
    "#Write the code to get below output\n",
    "#O/P 1:- **python (using rjust method)\n",
    "\n",
    "\n",
    "#Write the code to get below output\n",
    "#O/P 1:- **python** (using rjust method)"
   ]
  },
  {
   "cell_type": "code",
   "execution_count": null,
   "metadata": {
    "id": "cRVkvW6s4YKK"
   },
   "outputs": [],
   "source": [
    "#Write a Python program to find the length of the my_str:-\n",
    "\n",
    "#Input:- 'Write a Python program to find the length of the my_str'\n",
    "#Output:- 55\n"
   ]
  },
  {
   "cell_type": "code",
   "execution_count": null,
   "metadata": {
    "id": "SjABWI284Zuz"
   },
   "outputs": [],
   "source": [
    "#Write a Python program to find the total number of times letter 'p' is appeared in the below string:-\n",
    "    \n",
    "#Input:- 'peter piper picked a peck of pickled peppers.'\n",
    "#Output:- 9\n",
    "\n"
   ]
  },
  {
   "cell_type": "code",
   "execution_count": null,
   "metadata": {
    "id": "-iZtqbEo4bQp"
   },
   "outputs": [],
   "source": [
    "#Write a Python Program, to print all the indexes of all occurences of letter 'p' appeared in the string:-\n",
    "    \n",
    "#Input:- 'peter piper picked a peck of pickled peppers.'\n",
    "#Output:- \n",
    "# 0\n",
    "# 6\n",
    "# 8\n",
    "# 12\n",
    "# 21\n",
    "# 29\n",
    "# 37\n",
    "# 39\n",
    "# 40\n"
   ]
  },
  {
   "cell_type": "code",
   "execution_count": null,
   "metadata": {
    "id": "_A8Eu8f84daM"
   },
   "outputs": [],
   "source": [
    "#Write a python program to find below output:-\n",
    "\n",
    "#Input:- 'peter piper picked a peck of pickled peppers.'\n",
    "#Output:- ['peter', 'piper', 'picked', 'a', 'peck', 'of', 'pickled', 'peppers.']\n",
    "\n"
   ]
  },
  {
   "cell_type": "code",
   "execution_count": null,
   "metadata": {
    "id": "juh7tQuL4fNc"
   },
   "outputs": [],
   "source": [
    "#Write a python program to find below output:-\n",
    "\n",
    "#Input:- 'peter piper picked a peck of pickled peppers.'\n",
    "#Output:- 'peppers. pickled of peck a picked piper peter'\n",
    "\n"
   ]
  },
  {
   "cell_type": "code",
   "execution_count": null,
   "metadata": {
    "id": "aaHQYz194fW7"
   },
   "outputs": [],
   "source": [
    "#Write a python program to find below output:-\n",
    "\n",
    "#Input:- 'peter piper picked a peck of pickled peppers.'\n",
    "#Output:- '.sreppep delkcip fo kcep a dekcip repip retep'\n",
    "\n"
   ]
  },
  {
   "cell_type": "code",
   "execution_count": null,
   "metadata": {
    "id": "LSgj9glC4feI"
   },
   "outputs": [],
   "source": [
    "#Write a python program to find below output:-\n",
    "\n",
    "#Input:- 'peter piper picked a peck of pickled peppers.'\n",
    "#Output:- 'retep repip dekcip a kcep fo delkcip .sreppep'"
   ]
  },
  {
   "cell_type": "code",
   "execution_count": null,
   "metadata": {
    "id": "WUxPAkY94foo"
   },
   "outputs": [],
   "source": [
    "#Write a python program to find below output:-\n",
    "\n",
    "#Input:- 'peter piper picked a peck of pickled peppers.'\n",
    "#Output:- 'Peter Piper Picked A Peck Of Pickled Peppers.'\n",
    "\n"
   ]
  },
  {
   "cell_type": "code",
   "execution_count": null,
   "metadata": {
    "id": "IT1NSPxA4mww"
   },
   "outputs": [],
   "source": [
    "#Write a python program to find below output:-\n",
    "\n",
    "#Input:- 'Peter Piper Picked A Peck Of Pickled Peppers.'\n",
    "#Output:- 'Peter piper picked a peck of pickled peppers.'\n",
    "\n"
   ]
  },
  {
   "cell_type": "code",
   "execution_count": null,
   "metadata": {
    "id": "3Gg65vSc4m3C"
   },
   "outputs": [],
   "source": [
    "#Write a python program to implement index method. If sub_str is found in my_str then it will print the index\n",
    "# of first occurrence of first character of matching string in my_str:-\n",
    "\n",
    "#Input:- my_str = 'Peter Piper Picked A Peck Of Pickled Peppers.', sub_str = 'Pickl'\n",
    "#Output:- 29\n",
    "\n"
   ]
  },
  {
   "cell_type": "code",
   "execution_count": null,
   "metadata": {
    "id": "iFRhp_JI4m6k"
   },
   "outputs": [],
   "source": [
    "#Write a python program to implement replace method. If sub_str is found in my_str then it will replace the first \n",
    "#occurrence of sub_str with new_str else it will will print sub_str not found:-\n",
    "\n",
    "#Input:- my_str = 'Peter Piper Picked A Peck Of Pickled Peppers.', sub_str = 'Peck', new_str = 'Pack'\n",
    "#Output:- 'Peter Piper Picked A Pack Of Pickled Peppers.'\n",
    "\n"
   ]
  },
  {
   "cell_type": "code",
   "execution_count": null,
   "metadata": {
    "id": "dQ9YhBBc4m9V"
   },
   "outputs": [],
   "source": [
    "#Write a python program to find below output (implements rjust and ljust):-\n",
    "\n",
    "#Input:- 'Peter Piper Picked A Peck Of Pickled Peppers.', sub_str = 'Peck', \n",
    "#Output:- '*********************Peck********************'\n",
    "\n",
    "\n"
   ]
  }
 ],
 "metadata": {
  "colab": {
   "collapsed_sections": [],
   "name": "String_Assignment.ipynb",
   "provenance": []
  },
  "kernelspec": {
   "display_name": "Python 3 (ipykernel)",
   "language": "python",
   "name": "python3"
  },
  "language_info": {
   "codemirror_mode": {
    "name": "ipython",
    "version": 3
   },
   "file_extension": ".py",
   "mimetype": "text/x-python",
   "name": "python",
   "nbconvert_exporter": "python",
   "pygments_lexer": "ipython3",
   "version": "3.9.7"
  },
  "latex_envs": {
   "LaTeX_envs_menu_present": true,
   "autoclose": false,
   "autocomplete": true,
   "bibliofile": "biblio.bib",
   "cite_by": "apalike",
   "current_citInitial": 1,
   "eqLabelWithNumbers": true,
   "eqNumInitial": 1,
   "hotkeys": {
    "equation": "Ctrl-E",
    "itemize": "Ctrl-I"
   },
   "labels_anchors": false,
   "latex_user_defs": false,
   "report_style_numbering": false,
   "user_envs_cfg": false
  },
  "varInspector": {
   "cols": {
    "lenName": 16,
    "lenType": 16,
    "lenVar": 40
   },
   "kernels_config": {
    "python": {
     "delete_cmd_postfix": "",
     "delete_cmd_prefix": "del ",
     "library": "var_list.py",
     "varRefreshCmd": "print(var_dic_list())"
    },
    "r": {
     "delete_cmd_postfix": ") ",
     "delete_cmd_prefix": "rm(",
     "library": "var_list.r",
     "varRefreshCmd": "cat(var_dic_list()) "
    }
   },
   "types_to_exclude": [
    "module",
    "function",
    "builtin_function_or_method",
    "instance",
    "_Feature"
   ],
   "window_display": false
  }
 },
 "nbformat": 4,
 "nbformat_minor": 1
}
