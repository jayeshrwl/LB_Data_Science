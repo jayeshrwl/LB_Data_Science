{
 "cells": [
  {
   "cell_type": "code",
   "execution_count": 43,
   "metadata": {},
   "outputs": [
    {
     "data": {
      "text/plain": [
       "'This is a sample file line 1\\nThis is a sample file line 2\\nThis is a sample file line 3\\nThis is a sample file line 4\\nThis is a sample file line 5'"
      ]
     },
     "execution_count": 43,
     "metadata": {},
     "output_type": "execute_result"
    }
   ],
   "source": [
    "# Write a function in python to read the content from \n",
    "# a text file \"poem.txt\" line by line and display the same on screen.\n",
    "\n",
    "\n",
    "## As file not made available i have created the below file\n",
    "fh = open('poem.txt','w+')\n",
    "fh.write('''This is a sample file line 1\n",
    "This is a sample file line 2\n",
    "This is a sample file line 3\n",
    "This is a sample file line 4\n",
    "This is a sample file line 5''')\n",
    "fh.close()\n",
    "\n",
    "def ReadFile(x):\n",
    "    \n",
    "    fh = open(x,'r+')\n",
    "    data = fh.read()\n",
    "    fh.close()\n",
    "    return data\n",
    "    \n",
    "ReadFile('poem.txt')"
   ]
  },
  {
   "cell_type": "code",
   "execution_count": 88,
   "metadata": {},
   "outputs": [
    {
     "data": {
      "text/plain": [
       "3"
      ]
     },
     "execution_count": 88,
     "metadata": {},
     "output_type": "execute_result"
    }
   ],
   "source": [
    "# Write a function in python to count the number of lines \n",
    "# from a text file \"story.txt\" which is not starting with an alphabet \"T\". \n",
    "\n",
    "# Example: If the file \"story.txt\" contains the following lines: A boy is playing there.\n",
    "# There is a playground.\n",
    "# An aeroplane is in the sky.\n",
    "# The sky is pink.\n",
    "# Alphabets and numbers are allowed in the password.\n",
    "# The function should display the output as 3\n",
    "\n",
    "## As file not made available i have created the below file\n",
    "fh = open('story.txt','w+')\n",
    "fh.write('''A boy is playing there.\n",
    "There is a playground.\n",
    "An aeroplane is in the sky.\n",
    "The sky is pink.\n",
    "Alphabets and numbers are allowed in the password.\n",
    "The function should display the output as 3''')\n",
    "fh.close()\n",
    "\n",
    "    \n",
    "def LNCOUNT_StartWith (x,l):\n",
    "    fh = open(x,'r')\n",
    "    data = fh.read()\n",
    "    fh.close()\n",
    "    import re\n",
    "    lncount = 0\n",
    "    Ln = data.split('\\n')\n",
    "    for i in Ln:\n",
    "        if i.startswith(l):\n",
    "            lncount +=1\n",
    "    return lncount\n",
    "\n",
    "LNCOUNT_StartWith('story.txt', 'T')"
   ]
  },
  {
   "cell_type": "code",
   "execution_count": 89,
   "metadata": {},
   "outputs": [
    {
     "data": {
      "text/plain": [
       "35"
      ]
     },
     "execution_count": 89,
     "metadata": {},
     "output_type": "execute_result"
    }
   ],
   "source": [
    "# Write a function in Python to count and display the total number of words in a text file.\n",
    "\n",
    "def WrdCount (x):\n",
    "    fh = open(x,'r')\n",
    "    data = fh.read()\n",
    "    fh.close()\n",
    "    wrcount = len(data.split())\n",
    "    return wrcount\n",
    "\n",
    "WrdCount ('story.txt')"
   ]
  },
  {
   "cell_type": "code",
   "execution_count": 115,
   "metadata": {},
   "outputs": [
    {
     "data": {
      "text/plain": [
       "5"
      ]
     },
     "execution_count": 115,
     "metadata": {},
     "output_type": "execute_result"
    }
   ],
   "source": [
    "# Write a function in Python to read lines from a text file \"notes.txt\". \n",
    "# Your function should find and display the occurrence of the word \"the\".\n",
    "\n",
    "# For example: If the content of the file is:\n",
    "# \"India is the fastest-growing economy. India is looking for more investments \n",
    "#around the globe. The whole world is looking at India as a great market. \n",
    "#Most of the Indians can foresee the heights that India is capable of reaching.\"\n",
    "\n",
    "# The output should be 5.\n",
    "\n",
    "## As file not made available i have created the below file\n",
    "fh = open('notes.txt','w+')\n",
    "fh.write('''India is the fastest-growing economy. India is looking for more investments around the globe. The whole world is looking at India as a great market. Most of the Indians can foresee the heights that India is capable of reaching.''')\n",
    "fh.close()\n",
    "\n",
    "def THECount(x):\n",
    "    fh = open(x,'r')\n",
    "    data = fh.read()\n",
    "    fh.close()\n",
    "    word1 = 'the' \n",
    "    word2 = 'The'\n",
    "    data = data.split()\n",
    "    lncount = 0   \n",
    "    for i in data:\n",
    "        if i == word1 or i == word2:\n",
    "            lncount +=1\n",
    "    \n",
    "    return lncount\n",
    "\n",
    "THECount('notes.txt')"
   ]
  },
  {
   "cell_type": "code",
   "execution_count": 93,
   "metadata": {},
   "outputs": [
    {
     "name": "stdout",
     "output_type": "stream",
     "text": [
      "A\n",
      "boy\n",
      "is\n",
      "is\n",
      "a\n",
      "An\n",
      "is\n",
      "in\n",
      "the\n",
      "The\n",
      "sky\n",
      "is\n",
      "and\n",
      "are\n",
      "in\n",
      "the\n",
      "The\n",
      "the\n",
      "as\n",
      "3\n"
     ]
    }
   ],
   "source": [
    "# Write a function display_words() in python to read lines from a text file \"story.txt\", \n",
    "# and display those words, which are less than 4 characters.\n",
    "\n",
    "\n",
    "def display_words(x,y):\n",
    "    fh = open(x,'r')\n",
    "    data = fh.read()\n",
    "    fh.close()\n",
    "    words = data.split()\n",
    "    for i in words:\n",
    "        if len(i)<y:\n",
    "            print(i)\n",
    "\n",
    "display_words('story.txt',4)\n"
   ]
  },
  {
   "cell_type": "code",
   "execution_count": 122,
   "metadata": {},
   "outputs": [
    {
     "data": {
      "text/plain": [
       "12"
      ]
     },
     "execution_count": 122,
     "metadata": {},
     "output_type": "execute_result"
    }
   ],
   "source": [
    "# Write a function in Python to count the words \"this\" and \"these\" present in a text \n",
    "# file \"article.txt\". \n",
    "# [Note that the words \"this\" and \"these\" are complete words] \n",
    "\n",
    "## As file not made available i have created the below file\n",
    "fh = open('artcile.txt','w+')\n",
    "fh.write('''ARTICLE is TEST article, to count this this this this this this and these these these these these these''')\n",
    "fh.close()\n",
    "\n",
    "\n",
    "def Count_This_These(x):\n",
    "    fh = open(x,'r')\n",
    "    data = fh.read()\n",
    "    fh.close()\n",
    "    word1 = \"this\"\n",
    "    word2 = \"these\"\n",
    "    \n",
    "    data = data.split()\n",
    "    word1_count=0\n",
    "    word2_count=0\n",
    "    \n",
    "    for i in data:\n",
    "        if i == word1:\n",
    "            word1_count +=1\n",
    "    for i in data:\n",
    "        if i == word2:\n",
    "            word2_count +=1\n",
    "    \n",
    "    return word1_count+word2_count\n",
    "    \n",
    "Count_This_These('artcile.txt')"
   ]
  },
  {
   "cell_type": "code",
   "execution_count": 123,
   "metadata": {},
   "outputs": [
    {
     "name": "stdout",
     "output_type": "stream",
     "text": [
      "6\n"
     ]
    }
   ],
   "source": [
    "# Write a function in Python to count words in a text file those are ending with alphabet \"e\"\n",
    "\n",
    "def count_words(x):\n",
    "    fh = open(x,'r')\n",
    "    data = fh.read()\n",
    "    fh.close()\n",
    "    \n",
    "    count = 0\n",
    "    words = data.split()\n",
    "    for i in words:\n",
    "        if i[-1] == 'e':\n",
    "            count+=1\n",
    "    print(count)\n",
    "\n",
    "count_words('artcile.txt')"
   ]
  },
  {
   "cell_type": "code",
   "execution_count": 124,
   "metadata": {},
   "outputs": [
    {
     "name": "stdout",
     "output_type": "stream",
     "text": [
      "2\n"
     ]
    }
   ],
   "source": [
    "# Write a function in Python to count uppercase character in a text file.\n",
    "\n",
    "\n",
    "def count_uppercase(x):\n",
    "    fh = open(x,'r')\n",
    "    data = fh.read()\n",
    "    fh.close()\n",
    "    \n",
    "    count = 0\n",
    "    words = data.split()\n",
    "    for i in words:\n",
    "        if i.isupper():\n",
    "            count+=1\n",
    "    print(count)\n",
    "\n",
    "count_uppercase('artcile.txt')"
   ]
  },
  {
   "cell_type": "code",
   "execution_count": 126,
   "metadata": {},
   "outputs": [
    {
     "name": "stdout",
     "output_type": "stream",
     "text": [
      "T#H#E# #W#O#R#L#D# #I#S# #R#O#U#N#D#"
     ]
    }
   ],
   "source": [
    "# A text file named \"matter.txt\" contains some text, which needs to be displayed such that \n",
    "# every next character is separated by a symbol \"#\". \n",
    "# Write a function definition for hash_display() in Python that would display \n",
    "# the entire content of the file matter.txt in the desired format.\n",
    "\n",
    "# Example :\n",
    "# If the file matter.txt has the following content stored in it :\n",
    "# THE WORLD IS ROUND\n",
    "\n",
    "# The function hash_display() should display the following content :\n",
    "# T#H#E# #W#O#R#L#D# #I#S# #R#O#U#N#D#\n",
    "\n",
    "## As file not made available i have created the below file\n",
    "fh = open('matter.txt','w+')\n",
    "fh.write('''THE WORLD IS ROUND''')\n",
    "fh.close()\n",
    "\n",
    "def hash_display(x):\n",
    "    fh = open(x,'r')\n",
    "    data = fh.read()\n",
    "    fh.close()\n",
    "    for i in data:\n",
    "        print(i, end=\"#\")\n",
    "hash_display('matter.txt')\n"
   ]
  },
  {
   "cell_type": "code",
   "execution_count": 128,
   "metadata": {},
   "outputs": [
    {
     "data": {
      "text/plain": [
       "'WELL, THIS IS A WORD BY ITSELF. YOU COULD STRETCH THIS TO BE A SENTENCE'"
      ]
     },
     "execution_count": 128,
     "metadata": {},
     "output_type": "execute_result"
    }
   ],
   "source": [
    "# Aditi has used a text editing software to type some text. After saving the article as WORDS.TXT, \n",
    "# she realised that she has wrongly typed alphabet J in place of alphabet I everywhere in the article.\n",
    "# Write a function definition for JTOI() in Python that would display the corrected version of entire content \n",
    "# of the file WORDS.TXT with all the alphabets \"J\" to be displayed as an alphabet \"I\" on screen.\n",
    "\n",
    "# Note: Assuming that WORD.TXT does not contain any J alphabet otherwise.\n",
    "\n",
    "# Example:\n",
    "# If Aditi has stored the following content in the file WORDS.TXT:\n",
    "# WELL, THJS JS A WORD BY JTSELF. YOU COULD STRETCH THJS TO BE A SENTENCE\n",
    "# The function JTOI() should display the following content:\n",
    "# WELL, THIS IS A WORD BY ITSELF. YOU COULD STRETCH THIS TO BE A SENTENCE\n",
    "\n",
    "## As file not made available i have created the below file\n",
    "fh = open('WORDS.TXT','w+')\n",
    "fh.write('''WELL, THJS JS A WORD BY JTSELF. YOU COULD STRETCH THJS TO BE A SENTENCE''')\n",
    "fh.close()\n",
    "\n",
    "def JTOI(x):\n",
    "    fh = open(x,'r')\n",
    "    data = fh.read()\n",
    "    fh.close()\n",
    "    data = data.replace('J','I')\n",
    "    return data\n",
    "\n",
    "JTOI('WORDS.TXT')"
   ]
  },
  {
   "cell_type": "code",
   "execution_count": 130,
   "metadata": {},
   "outputs": [
    {
     "name": "stdout",
     "output_type": "stream",
     "text": [
      "A or a: 4\n",
      "M or m: 2\n"
     ]
    }
   ],
   "source": [
    "# Write a function AMCount() in Python, which should read each character of a text file STORY.TXT, \n",
    "# should count and display the occurance of alphabets A and M (including small cases a and m too).\n",
    "# For Example:\n",
    "# If the file content is as follows:\n",
    "# Updated information\n",
    "# As simplified by official websites.\n",
    "# The EUCount() function should display the output as:\n",
    "# A or a:4\n",
    "# M or m :2\n",
    "\n",
    "## As file not made available i have created the below file\n",
    "fh = open('STORY.TXT','w+')\n",
    "fh.write('''Updated information\n",
    "As simplified by official websites.''')\n",
    "fh.close()\n",
    "\n",
    "\n",
    "def AMCount(x):\n",
    "    fh = open(x,'r')\n",
    "    data = fh.read()\n",
    "    fh.close()\n",
    "    counta=0\n",
    "    countm=0\n",
    "    for i in data:\n",
    "        if i == 'A' or i =='a':\n",
    "            counta += 1\n",
    "        elif i == 'M' or i =='m':\n",
    "            countm += 1\n",
    "    print('A or a:',counta)\n",
    "    print('M or m:',countm)\n",
    "    \n",
    "AMCount('STORY.TXT')"
   ]
  },
  {
   "cell_type": "code",
   "execution_count": 137,
   "metadata": {},
   "outputs": [
    {
     "name": "stdout",
     "output_type": "stream",
     "text": [
      "Enter book number: 1\n",
      "Enter book Name: bk1\n",
      "Enter author: at1\n",
      "Enter price: 10\n",
      "Add more record (y/n)? y\n",
      "Enter book number: 2\n",
      "Enter book Name: bk2\n",
      "Enter author: at1\n",
      "Enter price: 20\n",
      "Add more record (y/n)? y\n",
      "Enter book number: 3\n",
      "Enter book Name: bk3\n",
      "Enter author: at2\n",
      "Enter price: 30\n",
      "Add more record (y/n)? n\n",
      "Enter author name to search: at1\n",
      "No of books are 2\n"
     ]
    }
   ],
   "source": [
    "# A binary file \"Book.dat\" has structure [BookNo, Book_Name, Author, Price].\n",
    "# i. Write a user defined function createFile() to input data for a record and add to Book.dat.\n",
    "# ii. Write a function countRec(Author) in Python which accepts the Author name as parameter \n",
    "# and count and return number of books by the given Author are stored in the binary file \"Book.dat\"\n",
    "\n",
    "\n",
    "import pickle\n",
    "def createFile():\n",
    "    fh = open('Book.dat','ab')\n",
    "    BookNo = int(input(\"Enter book number: \"))\n",
    "    Book_Name = input(\"Enter book Name: \")\n",
    "    Author =input(\"Enter author: \")\n",
    "    Price = int(input(\"Enter price: \"))\n",
    "    record = [BookNo, Book_Name, Author, Price]\n",
    "    pickle.dump(record, fh)\n",
    "    fh.close()\n",
    "\n",
    "def countRec(Author):\n",
    "    fh = open(\"book.dat\",\"rb\")\n",
    "    count = 0\n",
    "    try:\n",
    "        while True:\n",
    "            i = pickle.load(fh)\n",
    "            if i[2]==Author:\n",
    "                count+=1\n",
    "    except EOFError:\n",
    "        pass\n",
    "    return count\n",
    "    file.close()\n",
    "\n",
    "\n",
    "def BookFile():\n",
    "    while True:\n",
    "        createFile()\n",
    "        check = input(\"Add more record (y/n)? \")\n",
    "        if check in 'Nn':\n",
    "            break\n",
    "    Author = input('Enter author name to search: ')\n",
    "    n = countRec(Author)\n",
    "    print(\"No of books are\",n)\n",
    "    \n",
    "BookFile()"
   ]
  },
  {
   "cell_type": "code",
   "execution_count": null,
   "metadata": {},
   "outputs": [],
   "source": [
    "# A binary file \"STUDENT.DAT\" has structure (admission_number, Name, Percentage). \n",
    "# Write a function count_rec() in Python that would read contents of the file \"STUDENT.DAT\" \n",
    "# and display the details of those students whose percentage is above 75. \n",
    "# Also display number of students scoring above 75%\n",
    "\n",
    "import pickle\n",
    "def count_rec():\n",
    "    fh = open(\"STUDENT.DAT\",\"rb\")\n",
    "    count = 0\n",
    "    try:\n",
    "        while True:\n",
    "            i = pickle.load(fh)\n",
    "            if i[2] > 75:\n",
    "                print(i)\n",
    "                count+=1\n",
    "    except EOFError:\n",
    "        pass\n",
    "    print('No of students with more than 75% are', count)\n",
    "    file.close()"
   ]
  },
  {
   "cell_type": "code",
   "execution_count": 139,
   "metadata": {},
   "outputs": [
    {
     "name": "stdout",
     "output_type": "stream",
     "text": [
      "Enter employee code: 1\n",
      "Enter employee Name: emp1\n",
      "Enter salary: 25000\n",
      "Add more record (y/n)? y\n",
      "Enter employee code: 2\n",
      "Enter employee Name: emp2\n",
      "Enter salary: 35000\n",
      "Add more record (y/n)? n\n",
      "Employee having salary more than 30000\n",
      "{'empcode': 2, 'name': 'emp2', 'salary': 35000}\n"
     ]
    }
   ],
   "source": [
    "# Given a binary file employee.dat, created using dictionary object having keys: (empcode, name, and salary)\n",
    "\n",
    "# Write a python function that add one more record at the end of file.\n",
    "# Write a python function that display all employee records whose salary is more that 30000\n",
    "\n",
    "\n",
    "import pickle\n",
    "def add_record():\n",
    "    fh = open(\"employee.dat\",\"ab\")\n",
    "    emp = {}\n",
    "    emp['empcode'] = int(input(\"Enter employee code: \"))\n",
    "    emp['name'] = input(\"Enter employee Name: \")\n",
    "    emp['salary'] = int(input(\"Enter salary: \"))\n",
    "    pickle.dump(emp, fh)\n",
    "    fh.close()\n",
    "    \n",
    "def search():\n",
    "    fh = open(\"employee.dat\",\"rb\")\n",
    "    try:\n",
    "        while True:\n",
    "            emp = pickle.load(fh)\n",
    "            if emp['salary']>30000:\n",
    "                print(emp)\n",
    "    except EOFError:\n",
    "        pass\n",
    "    fh.close()\n",
    "\n",
    "def check():\n",
    "    while True:\n",
    "        add_record()\n",
    "        ch = input(\"Add more record (y/n)? \")\n",
    "        if ch in 'Nn':\n",
    "            break\n",
    "    print('Employee having salary more than 30000')\n",
    "    search()\n",
    "\n",
    "check()    "
   ]
  },
  {
   "cell_type": "code",
   "execution_count": 140,
   "metadata": {},
   "outputs": [],
   "source": [
    "# Write a function to search and display details of student whose rollno is '1005' \n",
    "# from the binary file student.dat having structure [rollno, name, class and fees].\n",
    "\n",
    "def SearchRNo(x):\n",
    "    fh = open(\"student.dat\",\"rb\")\n",
    "    try:\n",
    "        while True:\n",
    "            i = pickle.load(fh)\n",
    "            if i[0] == x:\n",
    "                print(i)\n",
    "    except EOFError:\n",
    "        pass\n",
    "    fh.close()\n",
    "\n"
   ]
  },
  {
   "cell_type": "code",
   "execution_count": 142,
   "metadata": {},
   "outputs": [],
   "source": [
    "# A binary file school.dat has structure(rollno, name, class, fees)\n",
    "\n",
    "# Write a definition for function total_fees( ) that reads each object of file and calculate \n",
    "# the total fees of students and display the same.\n",
    "\n",
    "\n",
    "def total_fees():\n",
    "    fh = open(\"school.dat\",\"rb\")\n",
    "    try:\n",
    "        total = 0\n",
    "        while True:\n",
    "            i = pickle.load(fh)\n",
    "            total += i[3]\n",
    "    except EOFError:\n",
    "        pass\n",
    "    print('Total Fees: ',total)\n",
    "    fh.close()\n"
   ]
  },
  {
   "cell_type": "code",
   "execution_count": 146,
   "metadata": {},
   "outputs": [
    {
     "name": "stdout",
     "output_type": "stream",
     "text": [
      "Enter player code: 1\n",
      "Enter player Name: p1\n",
      "Enter player country: c\n",
      "Enter total runs of player: 1000\n",
      "Add more record (y/n)? y\n",
      "Enter player code: 2\n",
      "Enter player Name: p2\n",
      "Enter player country: c\n",
      "Enter total runs of player: 2000\n",
      "Add more record (y/n)? y\n",
      "Enter player code: 3\n",
      "Enter player Name: p3\n",
      "Enter player country: c2\n",
      "Enter total runs of player: 3000\n",
      "Add more record (y/n)? n\n",
      "the number of players whose name starts with A: None\n",
      "Enter country name to search: c\n",
      "No of players are 6\n"
     ]
    }
   ],
   "source": [
    "# A binary file players.dat, containing records of following list format: [code, name, country and total runs]\n",
    "\n",
    "# 1. Write a python function that display all records where player name starts from 'A'\n",
    "# 2. Write a python function that accept country as an argument and count and display \n",
    "#     the number of players of that country.\n",
    "# 3. Write a python function that add one record at the end of file.\n",
    "\n",
    "\n",
    "import pickle\n",
    "\n",
    "def createFile():\n",
    "    fh = open(\"players.dat\",\"ab\")\n",
    "    Code = int(input(\"Enter player code: \"))\n",
    "    Name = input(\"Enter player Name: \")\n",
    "    Country =input(\"Enter player country: \")\n",
    "    Total_Runs = int(input(\"Enter total runs of player: \"))\n",
    "    record = [Code, Name, Country, Total_Runs]\n",
    "    pickle.dump(record, fh)\n",
    "    fh.close()\n",
    "\n",
    "def search():\n",
    "    fh = open(\"players.dat\",\"rb\")\n",
    "    try:\n",
    "        while True:\n",
    "            i = pickle.load(fh)\n",
    "            if i[1][0] == 'A':\n",
    "                print(i)\n",
    "    except EOFError:\n",
    "        pass\n",
    "    fh.close()\n",
    "\n",
    "def countRec(Country):\n",
    "    fh = open(\"players.dat\",\"rb\")\n",
    "    count = 0\n",
    "    try:\n",
    "        while True:\n",
    "            i = pickle.load(fh)\n",
    "            if i[2]==Country:\n",
    "                count+=1\n",
    "    except EOFError:\n",
    "        pass\n",
    "    return count\n",
    "    fh.close()\n",
    "\n",
    "def Check():\n",
    "    while True:\n",
    "        createFile()\n",
    "        ch = input(\"Add more record (y/n)? \")\n",
    "        if ch in 'Nn':\n",
    "            break\n",
    "    print(\"the number of players whose name starts with A:\",search())\n",
    "    Country = input('Enter country name to search: ')\n",
    "    n = countRec(Country)\n",
    "    print(\"No of players are\",n)\n",
    "\n",
    "Check()"
   ]
  },
  {
   "cell_type": "code",
   "execution_count": 147,
   "metadata": {
    "ExecuteTime": {
     "end_time": "2021-05-29T10:46:59.140338Z",
     "start_time": "2021-05-29T10:46:59.135100Z"
    }
   },
   "outputs": [],
   "source": [
    "# Given a binary file game.dat, containing records of following list format: [game_name, participants]\n",
    "\n",
    "# Write a function in Python that would read contents from the file game.dat and \n",
    "# creates a file named basket.dat copying only those records from game.dat where the game name is \"Basket Ball\"\n",
    "\n",
    "\n",
    "def countRec(x):\n",
    "    infile = open(\"game.dat\",\"rb\")\n",
    "    outfile = open(\"basket.dat\",\"wb\")\n",
    "\n",
    "    try:\n",
    "        while True:\n",
    "            i = pickle.load(infile)\n",
    "            if i[0] == \"Basket Ball\":\n",
    "                pickle.dump(i, outfile)\n",
    "    except EOFError:\n",
    "        pass\n",
    "    infile.close()\n",
    "    outfile.close()\n"
   ]
  }
 ],
 "metadata": {
  "kernelspec": {
   "display_name": "Python 3 (ipykernel)",
   "language": "python",
   "name": "python3"
  },
  "language_info": {
   "codemirror_mode": {
    "name": "ipython",
    "version": 3
   },
   "file_extension": ".py",
   "mimetype": "text/x-python",
   "name": "python",
   "nbconvert_exporter": "python",
   "pygments_lexer": "ipython3",
   "version": "3.9.7"
  }
 },
 "nbformat": 4,
 "nbformat_minor": 2
}
