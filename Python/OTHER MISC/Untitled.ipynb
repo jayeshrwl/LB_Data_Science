{
 "cells": [
  {
   "cell_type": "code",
   "execution_count": 8,
   "metadata": {},
   "outputs": [],
   "source": [
    "import re\n",
    "with open('regex_file.txt', 'r') as fh:\n",
    "    data = fh.read()"
   ]
  },
  {
   "cell_type": "code",
   "execution_count": 9,
   "metadata": {},
   "outputs": [
    {
     "name": "stdout",
     "output_type": "stream",
     "text": [
      "AfgvgG7 is a programming language.\n",
      "Python3\n",
      "We are learning Python3\n",
      "We have completed our assignments.\n",
      "learn python\n",
      "mylearn\n",
      "hbhbv learn, jhvbhbv\n",
      "Assignments are submitted to learnbay3rdfeb@gmail.com\n",
      "My phone number is      91-9876543210\n",
      "a123-456-7890\n",
      "IP address is 192.100.76.24\n",
      "192.101.77.20\n",
      "python3243354354\n",
      "Jothan25@gmail.com\n",
      "What are the topics left?\n",
      "John lives? in Sweden\n",
      "abc@learnbay.com\n",
      "john123@yahoo.in\n",
      "python2\n",
      "let's learn regex.\n",
      "python34\n",
      "He says, let me work, buddy!\n",
      "xyz-id-12@gmail.com\n",
      "xyz-id-12@gmail.com_char\n",
      "xyz-id-12@gmail-com\n",
      "xyz-id-12@example.whatever\n",
      "-@gmail.com\n",
      ".@gmail.com\n"
     ]
    }
   ],
   "source": [
    "print(data)"
   ]
  },
  {
   "cell_type": "code",
   "execution_count": 26,
   "metadata": {},
   "outputs": [
    {
     "name": "stdout",
     "output_type": "stream",
     "text": [
      "learnbay3rdfeb@gmail.com\n",
      "Jothan25@gmail.com\n",
      "abc@learnbay.com\n",
      "john123@yahoo.in\n",
      "xyz-id-12@gmail.com\n",
      "xyz-id-12@gmail.com_char\n",
      "xyz-id-12@gmail-com\n",
      "xyz-id-12@example.whatever\n",
      "-@gmail.com\n",
      ".@gmail.com\n"
     ]
    }
   ],
   "source": [
    "pat = r'[\\w\\.-]+@[\\w\\.-]+.[\\w\\_]'\n",
    "mat = re.findall(pat,data)\n",
    "for i in mat:\n",
    "    print(i)"
   ]
  }
 ],
 "metadata": {
  "kernelspec": {
   "display_name": "Python 3 (ipykernel)",
   "language": "python",
   "name": "python3"
  },
  "language_info": {
   "codemirror_mode": {
    "name": "ipython",
    "version": 3
   },
   "file_extension": ".py",
   "mimetype": "text/x-python",
   "name": "python",
   "nbconvert_exporter": "python",
   "pygments_lexer": "ipython3",
   "version": "3.9.7"
  }
 },
 "nbformat": 4,
 "nbformat_minor": 4
}
