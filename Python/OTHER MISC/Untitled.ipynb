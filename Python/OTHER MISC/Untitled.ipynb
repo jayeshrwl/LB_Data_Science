{
 "cells": [
  {
   "cell_type": "code",
   "execution_count": 2,
   "metadata": {},
   "outputs": [
    {
     "name": "stdout",
     "output_type": "stream",
     "text": [
      "Profit in Quater 1 is 10\n",
      "Profit in Quater 2 is 20\n",
      "Profit in Quater 3 is 30\n",
      "Profit in Quater 4 is 40\n"
     ]
    }
   ],
   "source": [
    "profit = [10,20,30,40]\n",
    "q=0\n",
    "\n",
    "for p in profit:\n",
    "    q +=1\n",
    "    print(f'Profit in Quater {q} is {p}')\n"
   ]
  },
  {
   "cell_type": "code",
   "execution_count": 4,
   "metadata": {},
   "outputs": [
    {
     "name": "stdout",
     "output_type": "stream",
     "text": [
      "Sales for the year 2015 is 10\n",
      "Sales for the year 2016 is 20\n",
      "Sales for the year 2017 is 30\n",
      "Sales for the year 2018 is 40\n",
      "Sales for the year 2019 is 50\n",
      "Sales for the year 2020 is 60\n"
     ]
    }
   ],
   "source": [
    "sales = [10,20,30,40,50,60]\n",
    "for a , b in enumerate (sales, start = 2015):\n",
    "    print (f'Sales for the year {a} is {b}')\n"
   ]
  },
  {
   "cell_type": "code",
   "execution_count": 15,
   "metadata": {},
   "outputs": [
    {
     "name": "stdout",
     "output_type": "stream",
     "text": [
      "p\n",
      "y\n",
      "t\n",
      "h\n",
      "o\n",
      "n\n"
     ]
    }
   ],
   "source": [
    "str ='python'\n",
    "n = len(str)\n",
    "for i in range (n):\n",
    "    print(str[i])\n"
   ]
  },
  {
   "cell_type": "code",
   "execution_count": 16,
   "metadata": {},
   "outputs": [
    {
     "name": "stdout",
     "output_type": "stream",
     "text": [
      "0 0\n",
      "0 1\n",
      "0 2\n",
      "1 0\n",
      "1 1\n",
      "1 2\n",
      "2 0\n",
      "2 1\n",
      "2 2\n"
     ]
    }
   ],
   "source": [
    "for i in range (3):\n",
    "    for j in range (3):\n",
    "        print(i,j)"
   ]
  },
  {
   "cell_type": "code",
   "execution_count": null,
   "metadata": {},
   "outputs": [],
   "source": []
  },
  {
   "cell_type": "code",
   "execution_count": null,
   "metadata": {},
   "outputs": [],
   "source": []
  },
  {
   "cell_type": "code",
   "execution_count": null,
   "metadata": {},
   "outputs": [],
   "source": []
  },
  {
   "cell_type": "code",
   "execution_count": null,
   "metadata": {},
   "outputs": [],
   "source": []
  }
 ],
 "metadata": {
  "kernelspec": {
   "display_name": "Python 3",
   "language": "python",
   "name": "python3"
  },
  "language_info": {
   "codemirror_mode": {
    "name": "ipython",
    "version": 3
   },
   "file_extension": ".py",
   "mimetype": "text/x-python",
   "name": "python",
   "nbconvert_exporter": "python",
   "pygments_lexer": "ipython3",
   "version": "3.8.5"
  }
 },
 "nbformat": 4,
 "nbformat_minor": 4
}
