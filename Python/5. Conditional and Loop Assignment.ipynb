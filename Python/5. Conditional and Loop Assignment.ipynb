{
 "cells": [
  {
   "cell_type": "code",
   "execution_count": 1,
   "metadata": {},
   "outputs": [],
   "source": [
    "# Q1. W. A P. which takes one number from 0 to 9 from the user and prints\n",
    "# it in the word. And if the word is not from 0 to 9 then\n",
    "# it should print that number is outside of the range and program should\n",
    "# exit.\n",
    "# For exapmple:-\n",
    "# input = 1\n",
    "# output = one"
   ]
  },
  {
   "cell_type": "code",
   "execution_count": 3,
   "metadata": {},
   "outputs": [
    {
     "name": "stdout",
     "output_type": "stream",
     "text": [
      "Please enter a value between 0 to 9: 2\n",
      "You have entered \"Two\"\n",
      "Please enter a value between 0 to 9: 10\n",
      "Number is outside of the range\n"
     ]
    }
   ],
   "source": [
    "dict = {0: 'Zero', 1:'One', 2:'Two', 3:'Three', 4:'Four', 5:'five', 6:'Six', 7:'Seven', 8:'Eight', 9:'Nine'}\n",
    "num = 0\n",
    "while 0<=num <= 9 :\n",
    "    num = int(input('Please enter a value between 0 to 9: '))\n",
    "    if 0<= num <= 9:\n",
    "        print(f'You have entered \"{dict[num]}\"') \n",
    "    else :\n",
    "        print ('Number is outside of the range')\n",
    "    "
   ]
  },
  {
   "cell_type": "code",
   "execution_count": null,
   "metadata": {},
   "outputs": [],
   "source": [
    "# Q2. W. A P. to implement calculator but the operation to be done and two\n",
    "# numbers will be taken as input from user:-\n",
    "# Operation console should show below:-\n",
    "#  Please select any one operation from below:-\n",
    "#  * To add enter 1\n",
    "#  * to subtract enter 2\n",
    "#  * To multiply enter 3\n",
    "#  * To divide enter 4\n",
    "#  * To divide and find quotient enter 5\n",
    "#  * To divide and find remainder enter 6\n",
    "#  * To divide and find num1 to the power of num2 enter 7\n",
    "#  * To Come out of the program enter 8"
   ]
  },
  {
   "cell_type": "code",
   "execution_count": 12,
   "metadata": {},
   "outputs": [
    {
     "name": "stdout",
     "output_type": "stream",
     "text": [
      "Enter Input Value 1: 20\n",
      "Enter Input Value 2: 10\n",
      "Please select any one operation from below:-\n",
      "  * To add enter 1\n",
      "  * to subtract enter 2\n",
      "  * To multiply enter 3\n",
      "  * To divide enter 4\n",
      "  * To divide and find quotient enter 5\n",
      "  * To divide and find remainder enter 6\n",
      "  * To find num1 to the power of num2 enter 7\n",
      "  * To Come out of the program enter 8\n",
      "Please select the operation : 1\n",
      " Selected to Add value 1: \"20.0\" and value 2: \"10.0\" and answer is \"30.0\"\n",
      "Please select the operation : 2\n",
      " Selected to Subtract value 1: \"20.0\" by value 2: \"10.0\" and answer is \"10.0\"\n",
      "Please select the operation : 3\n",
      " Selected to Multiply value 1: \"20.0\" by value 2: \"10.0\" and answer is \"200.0\"\n",
      "Please select the operation : 4\n",
      " Selected to Divide value 1: \"20.0\" by value 2: \"10.0\" and answer is \"2.0\"\n",
      "Please select the operation : 5\n",
      " Selected to Divide value 1: \"20.0\" by value 2: \"10.0\" and the Quotient value is \"2.0\"\n",
      "Please select the operation : 6\n",
      " Selected to Divide value 1: \"20.0\" by value 2: \"10.0\" and the Remainder value is \"0.0\"\n",
      "Please select the operation : 7\n",
      " Selected to value 1: \"20.0\" to the power of value 2: \"10.0\" and answer is \"10240000000000.0\"\n",
      "Please select the operation : 8\n",
      "You have exited the program\n"
     ]
    }
   ],
   "source": [
    "a = float(input ('Enter Input Value 1: '))\n",
    "b = float(input ('Enter Input Value 2: '))\n",
    "print('''Please select any one operation from below:-\n",
    "  * To add enter 1\n",
    "  * to subtract enter 2\n",
    "  * To multiply enter 3\n",
    "  * To divide enter 4\n",
    "  * To divide and find quotient enter 5\n",
    "  * To divide and find remainder enter 6\n",
    "  * To find num1 to the power of num2 enter 7\n",
    "  * To Come out of the program enter 8''')\n",
    "act = 1\n",
    "while 1<=act <= 7 :\n",
    "    act = int(input('Please select the operation : '))\n",
    "    if act == 1:\n",
    "        print(f' Selected to Add value 1: \"{a}\" and value 2: \"{b}\" and answer is \"{a+b}\"')\n",
    "    elif act ==2:\n",
    "        print(f' Selected to Subtract value 1: \"{a}\" by value 2: \"{b}\" and answer is \"{a-b}\"')\n",
    "    elif act ==3:\n",
    "        print(f' Selected to Multiply value 1: \"{a}\" by value 2: \"{b}\" and answer is \"{a*b}\"')\n",
    "    elif act ==4:\n",
    "        print(f' Selected to Divide value 1: \"{a}\" by value 2: \"{b}\" and answer is \"{a/b}\"')\n",
    "    elif act ==5:\n",
    "        print(f' Selected to Divide value 1: \"{a}\" by value 2: \"{b}\" and the Quotient value is \"{a//b}\"')\n",
    "    elif act ==6:\n",
    "        print(f' Selected to Divide value 1: \"{a}\" by value 2: \"{b}\" and the Remainder value is \"{a%b}\"')\n",
    "    elif act ==7:\n",
    "        print(f' Selected to value 1: \"{a}\" to the power of value 2: \"{b}\" and answer is \"{a**b}\"')\n",
    "    elif act ==8:\n",
    "        print ('You have exited the program')"
   ]
  },
  {
   "cell_type": "code",
   "execution_count": null,
   "metadata": {},
   "outputs": [],
   "source": []
  }
 ],
 "metadata": {
  "kernelspec": {
   "display_name": "Python 3",
   "language": "python",
   "name": "python3"
  },
  "language_info": {
   "codemirror_mode": {
    "name": "ipython",
    "version": 3
   },
   "file_extension": ".py",
   "mimetype": "text/x-python",
   "name": "python",
   "nbconvert_exporter": "python",
   "pygments_lexer": "ipython3",
   "version": "3.8.5"
  }
 },
 "nbformat": 4,
 "nbformat_minor": 4
}
